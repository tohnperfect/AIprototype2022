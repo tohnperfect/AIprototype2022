{
  "nbformat": 4,
  "nbformat_minor": 0,
  "metadata": {
    "colab": {
      "provenance": [],
      "authorship_tag": "ABX9TyPhmp+2EKkdmyvZKtkU77Hd",
      "include_colab_link": true
    },
    "kernelspec": {
      "name": "python3",
      "display_name": "Python 3"
    },
    "language_info": {
      "name": "python"
    }
  },
  "cells": [
    {
      "cell_type": "markdown",
      "metadata": {
        "id": "view-in-github",
        "colab_type": "text"
      },
      "source": [
        "<a href=\"https://colab.research.google.com/github/tohnperfect/AIprototype2022/blob/main/Data_Exploration.ipynb\" target=\"_parent\"><img src=\"https://colab.research.google.com/assets/colab-badge.svg\" alt=\"Open In Colab\"/></a>"
      ]
    },
    {
      "cell_type": "code",
      "source": [
        "import os\n",
        "import pandas as pd\n",
        "import json\n",
        "from matplotlib import pyplot as plt\n",
        "\n",
        "import pickle"
      ],
      "metadata": {
        "id": "RZtqngfCoirq"
      },
      "execution_count": 9,
      "outputs": []
    },
    {
      "cell_type": "code",
      "execution_count": 2,
      "metadata": {
        "colab": {
          "base_uri": "https://localhost:8080/"
        },
        "id": "KX-g6Apxk3eM",
        "outputId": "06d5106a-401d-4faa-8322-32bea0932cf9"
      },
      "outputs": [
        {
          "output_type": "stream",
          "name": "stdout",
          "text": [
            "Mounted at /content/drive\n"
          ]
        }
      ],
      "source": [
        "from google.colab import drive\n",
        "drive.mount('/content/drive')\n",
        ""
      ]
    },
    {
      "cell_type": "code",
      "source": [
        "data_path = '/content/drive/MyDrive/wolf_AI'"
      ],
      "metadata": {
        "id": "cP37wqEen-Jw"
      },
      "execution_count": 3,
      "outputs": []
    },
    {
      "cell_type": "code",
      "source": [
        "main_path = os.listdir(data_path)"
      ],
      "metadata": {
        "id": "fNAoX6troTHw"
      },
      "execution_count": 4,
      "outputs": []
    },
    {
      "cell_type": "code",
      "source": [
        "folder00_path = os.path.join(data_path,main_path[0])\n",
        "folder00_ls = os.listdir(folder00_path)\n",
        "\n",
        "folder01_path = os.path.join(data_path,main_path[1])\n",
        "folder01_ls = os.listdir(folder01_path)\n",
        "\n",
        "folder02_path = os.path.join(data_path,main_path[2])\n",
        "folder02_ls = os.listdir(folder02_path)"
      ],
      "metadata": {
        "id": "Q47Yq0KmouTv"
      },
      "execution_count": 5,
      "outputs": []
    },
    {
      "cell_type": "code",
      "source": [
        "print(f'There are {len(main_path)} folders')\n",
        "for fol in main_path:\n",
        "    folder_path = os.path.join(data_path,fol)\n",
        "    folder_ls = os.listdir(folder_path)\n",
        "    print(f'Folder {fol} have {len(folder_ls):,} files')"
      ],
      "metadata": {
        "colab": {
          "base_uri": "https://localhost:8080/",
          "height": 311
        },
        "id": "cdwlT_BEpqP7",
        "outputId": "548d96b2-090e-4f8e-86d5-fc31f193b451"
      },
      "execution_count": 6,
      "outputs": [
        {
          "output_type": "stream",
          "name": "stdout",
          "text": [
            "There are 9 folders\n",
            "Folder F-PM-001 have 4,565 files\n",
            "Folder F-AC-002 have 64 files\n",
            "Folder F-AC-001 have 303 files\n"
          ]
        },
        {
          "output_type": "error",
          "ename": "NotADirectoryError",
          "evalue": "ignored",
          "traceback": [
            "\u001b[0;31m---------------------------------------------------------------------------\u001b[0m",
            "\u001b[0;31mNotADirectoryError\u001b[0m                        Traceback (most recent call last)",
            "\u001b[0;32m<ipython-input-6-b7e112a16f33>\u001b[0m in \u001b[0;36m<cell line: 2>\u001b[0;34m()\u001b[0m\n\u001b[1;32m      2\u001b[0m \u001b[0;32mfor\u001b[0m \u001b[0mfol\u001b[0m \u001b[0;32min\u001b[0m \u001b[0mmain_path\u001b[0m\u001b[0;34m:\u001b[0m\u001b[0;34m\u001b[0m\u001b[0;34m\u001b[0m\u001b[0m\n\u001b[1;32m      3\u001b[0m     \u001b[0mfolder_path\u001b[0m \u001b[0;34m=\u001b[0m \u001b[0mos\u001b[0m\u001b[0;34m.\u001b[0m\u001b[0mpath\u001b[0m\u001b[0;34m.\u001b[0m\u001b[0mjoin\u001b[0m\u001b[0;34m(\u001b[0m\u001b[0mdata_path\u001b[0m\u001b[0;34m,\u001b[0m\u001b[0mfol\u001b[0m\u001b[0;34m)\u001b[0m\u001b[0;34m\u001b[0m\u001b[0;34m\u001b[0m\u001b[0m\n\u001b[0;32m----> 4\u001b[0;31m     \u001b[0mfolder_ls\u001b[0m \u001b[0;34m=\u001b[0m \u001b[0mos\u001b[0m\u001b[0;34m.\u001b[0m\u001b[0mlistdir\u001b[0m\u001b[0;34m(\u001b[0m\u001b[0mfolder_path\u001b[0m\u001b[0;34m)\u001b[0m\u001b[0;34m\u001b[0m\u001b[0;34m\u001b[0m\u001b[0m\n\u001b[0m\u001b[1;32m      5\u001b[0m     \u001b[0mprint\u001b[0m\u001b[0;34m(\u001b[0m\u001b[0;34mf'Folder {fol} have {len(folder_ls):,} files'\u001b[0m\u001b[0;34m)\u001b[0m\u001b[0;34m\u001b[0m\u001b[0;34m\u001b[0m\u001b[0m\n",
            "\u001b[0;31mNotADirectoryError\u001b[0m: [Errno 20] Not a directory: '/content/drive/MyDrive/wolf_AI/request_00_ls.pickle'"
          ]
        }
      ]
    },
    {
      "cell_type": "code",
      "source": [
        "f = open(os.path.join(folder00_path,folder00_ls[0]))\n",
        "json_00 = json.load(f)\n",
        "f.close()\n",
        "\n",
        "f = open(os.path.join(folder01_path,folder01_ls[0]))\n",
        "json_10 = json.load(f)\n",
        "f.close()\n",
        "\n",
        "f = open(os.path.join(folder02_path,folder02_ls[0]))\n",
        "json_20 = json.load(f)\n",
        "f.close()"
      ],
      "metadata": {
        "id": "iC_A8tsUvp5c"
      },
      "execution_count": null,
      "outputs": []
    },
    {
      "cell_type": "code",
      "source": [
        "json_00"
      ],
      "metadata": {
        "colab": {
          "base_uri": "https://localhost:8080/"
        },
        "id": "xR2iy_flwEhj",
        "outputId": "b16065c7-535b-4783-cad5-f6c980b94c29"
      },
      "execution_count": 21,
      "outputs": [
        {
          "output_type": "execute_result",
          "data": {
            "text/plain": [
              "{'MemoId': 23647,\n",
              " 'DocumentNo': 'F-PM-001-2023-004704',\n",
              " 'TemplateId': 1310,\n",
              " 'TemplateName': 'มอบหมายงาน - Assignment',\n",
              " 'ToPerson': '',\n",
              " 'CcPerson': '',\n",
              " 'CreatorId': 152,\n",
              " 'CNameTh': 'กิติศักดิ์ เรืองอนันต์',\n",
              " 'CNameEn': 'Kitisak Rueanganan',\n",
              " 'CPositionId': 13,\n",
              " 'CPositionTh': 'Developer',\n",
              " 'CPositionEn': 'Developer',\n",
              " 'CDepartmentId': 3,\n",
              " 'CDepartmentTh': 'เทคโนโลยีสารสนเทส',\n",
              " 'CDepartmentEn': 'Information Technology',\n",
              " 'CDivisionId': 3,\n",
              " 'CDivisionTh': 'ฝ่ายปฏิบัติการ',\n",
              " 'CDivisionEn': 'Operation',\n",
              " 'RequesterId': 152,\n",
              " 'RNameTh': 'กิติศักดิ์ เรืองอนันต์',\n",
              " 'RNameEn': 'Kitisak Rueanganan',\n",
              " 'RPositionId': 13,\n",
              " 'RPositionTh': 'Developer',\n",
              " 'RPositionEn': 'Developer',\n",
              " 'RDepartmentId': 3,\n",
              " 'RDepartmentTh': 'เทคโนโลยีสารสนเทส',\n",
              " 'RDepartmentEn': 'Information Technology',\n",
              " 'RDivisionId': 3,\n",
              " 'RDivisionTh': 'ฝ่ายปฏิบัติการ',\n",
              " 'RDivisionEn': 'Operation',\n",
              " 'MemoSubject': 'WolfAnalytics : DuplicateDashBoard',\n",
              " 'StatusName': 'Completed',\n",
              " 'Amount': 0,\n",
              " 'RequestDate': '2023-06-27T23:04:03.833Z',\n",
              " 'ModifiedDate': '2023-06-28T11:22:01.727Z',\n",
              " 'PersonWaitingId': None,\n",
              " 'PersonWaiting': '',\n",
              " 'CompanyId': 2,\n",
              " 'CompanyName': 'TCB : บริษัท เทคคอนส์บิส จำกัด (สำนักงานใหญ่)',\n",
              " 'CompletedDate': '2023-06-28T11:22:01.803Z',\n",
              " 'Form': [{'type': 'l',\n",
              "   'label': 'แบบฟอร์มมอบหมายงาน - Assignment',\n",
              "   'value': None},\n",
              "  {'type': 'dd',\n",
              "   'label': 'Project Name',\n",
              "   'value': 'TCB-TCB-23-8-001 WOLF Report'},\n",
              "  {'type': 'c', 'label': 'Project Cost', 'value': None},\n",
              "  {'type': 't', 'label': 'Project Owner', 'value': None},\n",
              "  {'type': 't', 'label': 'Project Phase', 'value': None},\n",
              "  {'type': 'dd', 'label': 'Activity', 'value': 'R&D'},\n",
              "  {'type': 'dd', 'label': 'Component', 'value': '--select-- '},\n",
              "  {'type': 't', 'label': 'Others', 'value': None},\n",
              "  {'type': 'ta',\n",
              "   'label': 'Description',\n",
              "   'value': 'add api DuplicateDashBoard'},\n",
              "  {'type': 'd', 'label': 'Due Date', 'value': '27 Jun 2023'},\n",
              "  {'type': 'c', 'label': 'Billable Time (Day)', 'value': '0.63'},\n",
              "  {'type': 'dd',\n",
              "   'label': 'Priority',\n",
              "   'value': 'Quadrant 1 : Urgent and important '},\n",
              "  {'type': 'd', 'label': 'Actual End Date', 'value': '27 Jun 2023'},\n",
              "  {'type': 'c', 'label': 'Actual Man Hour', 'value': '5.00'},\n",
              "  {'type': 't',\n",
              "   'label': 'Ex. Actual Man Hour',\n",
              "   'value': '(นาที) 60=1.00, 45=0.75, 30=0.5, 15=0.25'},\n",
              "  {'type': 'c', 'label': 'Actual Man Day', 'value': '0.63'},\n",
              "  {'type': 'l', 'label': '', 'value': None}],\n",
              " 'ActionHistory': [{'ActionId': 110892,\n",
              "   'MemoId': 23647,\n",
              "   'ActorId': 152,\n",
              "   'ActorName': 'กิติศักดิ์ เรืองอนันต์',\n",
              "   'ActionProcess': 'submit',\n",
              "   'ActionDate': '2023-06-27T23:04:06.200Z',\n",
              "   'Comment': '',\n",
              "   'ActionStatus': 'Draft',\n",
              "   'Platform': 'web',\n",
              "   'ActorNameTh': 'กิติศักดิ์ เรืองอนันต์',\n",
              "   'ActorNameEn': 'Kitisak Rueanganan',\n",
              "   'ActorPositionId': 13,\n",
              "   'ActorPositionNameTh': 'Developer',\n",
              "   'ActorPositionNameEn': 'Developer',\n",
              "   'ActorDepartmentId': 3,\n",
              "   'ActorDepartmentNameEn': 'Information Technology',\n",
              "   'ActorDepartmentNameTh': 'เทคโนโลยีสารสนเทส',\n",
              "   'Form': None},\n",
              "  {'ActionId': 110893,\n",
              "   'MemoId': 23647,\n",
              "   'ActorId': 152,\n",
              "   'ActorName': 'กิติศักดิ์ เรืองอนันต์',\n",
              "   'ActionProcess': 'approve',\n",
              "   'ActionDate': '2023-06-27T23:04:12.833Z',\n",
              "   'Comment': '',\n",
              "   'ActionStatus': 'Wait for Approve',\n",
              "   'Platform': 'web',\n",
              "   'ActorNameTh': 'กิติศักดิ์ เรืองอนันต์',\n",
              "   'ActorNameEn': 'Kitisak Rueanganan',\n",
              "   'ActorPositionId': 13,\n",
              "   'ActorPositionNameTh': 'Developer',\n",
              "   'ActorPositionNameEn': 'Developer',\n",
              "   'ActorDepartmentId': 3,\n",
              "   'ActorDepartmentNameEn': 'Information Technology',\n",
              "   'ActorDepartmentNameTh': 'เทคโนโลยีสารสนเทส',\n",
              "   'Form': [{'type': 'l',\n",
              "     'label': 'แบบฟอร์มมอบหมายงาน - Assignment',\n",
              "     'value': None},\n",
              "    {'type': 'dd',\n",
              "     'label': 'Project Name',\n",
              "     'value': 'TCB-TCB-23-8-001 WOLF Report'},\n",
              "    {'type': 'c', 'label': 'Project Cost', 'value': None},\n",
              "    {'type': 't', 'label': 'Project Owner', 'value': None},\n",
              "    {'type': 't', 'label': 'Project Phase', 'value': None},\n",
              "    {'type': 'dd', 'label': 'Activity', 'value': 'R&D'},\n",
              "    {'type': 'dd', 'label': 'Component', 'value': '--select-- '},\n",
              "    {'type': 't', 'label': 'Others', 'value': None},\n",
              "    {'type': 'ta',\n",
              "     'label': 'Description',\n",
              "     'value': 'add api DuplicateDashBoard'},\n",
              "    {'type': 'd', 'label': 'Due Date', 'value': '27 Jun 2023'},\n",
              "    {'type': 'c', 'label': 'Billable Time (Day)', 'value': '0.63'},\n",
              "    {'type': 'dd',\n",
              "     'label': 'Priority',\n",
              "     'value': 'Quadrant 1 : Urgent and important '},\n",
              "    {'type': 'd', 'label': 'Actual End Date', 'value': '27 Jun 2023'},\n",
              "    {'type': 'c', 'label': 'Actual Man Hour', 'value': '5.00'},\n",
              "    {'type': 't',\n",
              "     'label': 'Ex. Actual Man Hour',\n",
              "     'value': '(นาที) 60=1.00, 45=0.75, 30=0.5, 15=0.25'},\n",
              "    {'type': 'c', 'label': 'Actual Man Day', 'value': '0.63'},\n",
              "    {'type': 'l', 'label': '', 'value': None}]},\n",
              "  {'ActionId': 110994,\n",
              "   'MemoId': 23647,\n",
              "   'ActorId': 123,\n",
              "   'ActorName': 'สุภาภรณ์ เฮียงโฮม',\n",
              "   'ActionProcess': 'approve',\n",
              "   'ActionDate': '2023-06-28T11:22:01.837Z',\n",
              "   'Comment': '',\n",
              "   'ActionStatus': 'Wait for Approve',\n",
              "   'Platform': 'line',\n",
              "   'ActorNameTh': 'สุภาภรณ์ เฮียงโฮม',\n",
              "   'ActorNameEn': 'Supaporn Heanghom',\n",
              "   'ActorPositionId': 5,\n",
              "   'ActorPositionNameTh': 'Project Manager',\n",
              "   'ActorPositionNameEn': 'Project Manager',\n",
              "   'ActorDepartmentId': 3,\n",
              "   'ActorDepartmentNameEn': 'Information Technology',\n",
              "   'ActorDepartmentNameTh': 'เทคโนโลยีสารสนเทส',\n",
              "   'Form': [{'type': 'l',\n",
              "     'label': 'แบบฟอร์มมอบหมายงาน - Assignment',\n",
              "     'value': None},\n",
              "    {'type': 'dd',\n",
              "     'label': 'Project Name',\n",
              "     'value': 'TCB-TCB-23-8-001 WOLF Report'},\n",
              "    {'type': 'c', 'label': 'Project Cost', 'value': None},\n",
              "    {'type': 't', 'label': 'Project Owner', 'value': None},\n",
              "    {'type': 't', 'label': 'Project Phase', 'value': None},\n",
              "    {'type': 'dd', 'label': 'Activity', 'value': 'R&D'},\n",
              "    {'type': 'dd', 'label': 'Component', 'value': '--select-- '},\n",
              "    {'type': 't', 'label': 'Others', 'value': None},\n",
              "    {'type': 'ta',\n",
              "     'label': 'Description',\n",
              "     'value': 'add api DuplicateDashBoard'},\n",
              "    {'type': 'd', 'label': 'Due Date', 'value': '27 Jun 2023'},\n",
              "    {'type': 'c', 'label': 'Billable Time (Day)', 'value': '0.63'},\n",
              "    {'type': 'dd',\n",
              "     'label': 'Priority',\n",
              "     'value': 'Quadrant 1 : Urgent and important '},\n",
              "    {'type': 'd', 'label': 'Actual End Date', 'value': '27 Jun 2023'},\n",
              "    {'type': 'c', 'label': 'Actual Man Hour', 'value': '5.00'},\n",
              "    {'type': 't',\n",
              "     'label': 'Ex. Actual Man Hour',\n",
              "     'value': '(นาที) 60=1.00, 45=0.75, 30=0.5, 15=0.25'},\n",
              "    {'type': 'c', 'label': 'Actual Man Day', 'value': '0.63'},\n",
              "    {'type': 'l', 'label': '', 'value': None}]}]}"
            ]
          },
          "metadata": {},
          "execution_count": 21
        }
      ]
    },
    {
      "cell_type": "code",
      "source": [
        "json_10"
      ],
      "metadata": {
        "colab": {
          "base_uri": "https://localhost:8080/"
        },
        "id": "2BFMGihywsut",
        "outputId": "f8c0935a-9032-4be2-b15b-0ef210db98cd"
      },
      "execution_count": 24,
      "outputs": [
        {
          "output_type": "execute_result",
          "data": {
            "text/plain": [
              "{'MemoId': 2796,\n",
              " 'DocumentNo': 'EX03-2019-002405',\n",
              " 'TemplateId': 1050,\n",
              " 'TemplateName': 'แบบฟอร์มเบิกเงินสดย่อย',\n",
              " 'ToPerson': 'Mr. Pairoj Tonsirianusorn',\n",
              " 'CcPerson': '',\n",
              " 'CreatorId': 21,\n",
              " 'CNameTh': 'นางสาวดนิตา\\xa0 สร้อยกลิ่น',\n",
              " 'CNameEn': 'Miss. Danita Soiklin',\n",
              " 'CPositionId': 4,\n",
              " 'CPositionTh': 'Project Manager',\n",
              " 'CPositionEn': 'Project Manager',\n",
              " 'CDepartmentId': 2,\n",
              " 'CDepartmentTh': 'Project (Danita Team)',\n",
              " 'CDepartmentEn': 'Project (Danita Team)',\n",
              " 'CDivisionId': None,\n",
              " 'CDivisionTh': None,\n",
              " 'CDivisionEn': None,\n",
              " 'RequesterId': 21,\n",
              " 'RNameTh': 'นางสาวดนิตา\\xa0 สร้อยกลิ่น',\n",
              " 'RNameEn': 'Miss. Danita Soiklin',\n",
              " 'RPositionId': 4,\n",
              " 'RPositionTh': 'Project Manager',\n",
              " 'RPositionEn': 'Project Manager',\n",
              " 'RDepartmentId': 2,\n",
              " 'RDepartmentTh': 'Project (Danita Team)',\n",
              " 'RDepartmentEn': 'Project (Danita Team)',\n",
              " 'RDivisionId': None,\n",
              " 'RDivisionTh': None,\n",
              " 'RDivisionEn': None,\n",
              " 'MemoSubject': 'เบิกเงินสดย่อย',\n",
              " 'StatusName': 'Completed',\n",
              " 'Amount': 474,\n",
              " 'RequestDate': '2019-06-17T15:32:53.070Z',\n",
              " 'ModifiedDate': '2019-06-24T15:45:56.993Z',\n",
              " 'PersonWaitingId': None,\n",
              " 'PersonWaiting': '',\n",
              " 'CompanyId': 2,\n",
              " 'CompanyName': 'TCB : เทคคอนส์บิส',\n",
              " 'CompletedDate': None,\n",
              " 'Form': [{'type': 'l', 'label': 'ใบเบิกเงินสดย่อย', 'value': None},\n",
              "  {'type': 'tb',\n",
              "   'label': '',\n",
              "   'value': {'columns': ['วันที่', 'โครงการ', 'รายการ', 'จำนวนเงิน'],\n",
              "    'rows': [['04/06/2019',\n",
              "      'SEC - web portal',\n",
              "      'ค่าข้าวหลัง 4 ทุ่ม ระหว่างรอ Deploy Production ของ ก.ล.ต.',\n",
              "      '474']]}}],\n",
              " 'ActionHistory': [{'ActionId': 4503,\n",
              "   'MemoId': 2796,\n",
              "   'ActorId': 21,\n",
              "   'ActorName': 'นางสาวดนิตา\\xa0 สร้อยกลิ่น',\n",
              "   'ActionProcess': 'submit',\n",
              "   'ActionDate': '2019-06-17T15:32:53.070Z',\n",
              "   'Comment': '',\n",
              "   'ActionStatus': 'Wait for Approve',\n",
              "   'Platform': 'web',\n",
              "   'ActorNameTh': None,\n",
              "   'ActorNameEn': None,\n",
              "   'ActorPositionId': None,\n",
              "   'ActorPositionNameTh': None,\n",
              "   'ActorPositionNameEn': None,\n",
              "   'ActorDepartmentId': None,\n",
              "   'ActorDepartmentNameEn': None,\n",
              "   'ActorDepartmentNameTh': None,\n",
              "   'Form': None},\n",
              "  {'ActionId': 4540,\n",
              "   'MemoId': 2796,\n",
              "   'ActorId': 1,\n",
              "   'ActorName': 'นายไพโรจน์ ต้นศิริอนุสรณ์',\n",
              "   'ActionProcess': 'approve',\n",
              "   'ActionDate': '2019-06-18T13:57:14.840Z',\n",
              "   'Comment': '',\n",
              "   'ActionStatus': 'Wait for Approve',\n",
              "   'Platform': 'android',\n",
              "   'ActorNameTh': None,\n",
              "   'ActorNameEn': None,\n",
              "   'ActorPositionId': None,\n",
              "   'ActorPositionNameTh': None,\n",
              "   'ActorPositionNameEn': None,\n",
              "   'ActorDepartmentId': None,\n",
              "   'ActorDepartmentNameEn': None,\n",
              "   'ActorDepartmentNameTh': None,\n",
              "   'Form': None},\n",
              "  {'ActionId': 4706,\n",
              "   'MemoId': 2796,\n",
              "   'ActorId': 52,\n",
              "   'ActorName': 'นางสาวชัญญา คงประเสริฐอมร',\n",
              "   'ActionProcess': 'approve',\n",
              "   'ActionDate': '2019-06-24T15:45:57.010Z',\n",
              "   'Comment': 'ดำเนินการชำระเงิน วันที่ 24/6/19',\n",
              "   'ActionStatus': 'Completed',\n",
              "   'Platform': 'web',\n",
              "   'ActorNameTh': None,\n",
              "   'ActorNameEn': None,\n",
              "   'ActorPositionId': None,\n",
              "   'ActorPositionNameTh': None,\n",
              "   'ActorPositionNameEn': None,\n",
              "   'ActorDepartmentId': None,\n",
              "   'ActorDepartmentNameEn': None,\n",
              "   'ActorDepartmentNameTh': None,\n",
              "   'Form': None}]}"
            ]
          },
          "metadata": {},
          "execution_count": 24
        }
      ]
    },
    {
      "cell_type": "code",
      "source": [
        "json_20"
      ],
      "metadata": {
        "colab": {
          "base_uri": "https://localhost:8080/"
        },
        "id": "lUTF6tiBxZTI",
        "outputId": "105875a1-0bb3-4a04-82e1-fa24978d4625"
      },
      "execution_count": 28,
      "outputs": [
        {
          "output_type": "execute_result",
          "data": {
            "text/plain": [
              "{'MemoId': 16439,\n",
              " 'DocumentNo': 'EX011-2022-000100',\n",
              " 'TemplateId': 1266,\n",
              " 'TemplateName': 'แบบฟอร์มเบิกค่าใช้จ่าย',\n",
              " 'ToPerson': '',\n",
              " 'CcPerson': '',\n",
              " 'CreatorId': 123,\n",
              " 'CNameTh': 'สุภาภรณ์ เฮียงโฮม',\n",
              " 'CNameEn': 'Supaporn Heanghom',\n",
              " 'CPositionId': 13,\n",
              " 'CPositionTh': 'Developer',\n",
              " 'CPositionEn': 'Developer',\n",
              " 'CDepartmentId': 3,\n",
              " 'CDepartmentTh': 'เทคโนโลยีสารสนเทส',\n",
              " 'CDepartmentEn': 'Information Technology',\n",
              " 'CDivisionId': None,\n",
              " 'CDivisionTh': None,\n",
              " 'CDivisionEn': '',\n",
              " 'RequesterId': 146,\n",
              " 'RNameTh': 'ณัฐวรรธน์ อศวฌานนท์',\n",
              " 'RNameEn': 'Nuttawat Asawachanon',\n",
              " 'RPositionId': 13,\n",
              " 'RPositionTh': 'Developer',\n",
              " 'RPositionEn': 'Developer',\n",
              " 'RDepartmentId': 3,\n",
              " 'RDepartmentTh': 'เทคโนโลยีสารสนเทส',\n",
              " 'RDepartmentEn': 'Information Technology',\n",
              " 'RDivisionId': 3,\n",
              " 'RDivisionTh': 'ฝ่ายปฏิบัติการ',\n",
              " 'RDivisionEn': '',\n",
              " 'MemoSubject': 'ขอเบิกค่าเบี้ยเลี้ยงดูแลบูธผักสด วันที่ 11 ธ.ค. 65 (ณัฐวรรธน์ อศวฌานนท์)',\n",
              " 'StatusName': 'Completed',\n",
              " 'Amount': 0,\n",
              " 'RequestDate': '2022-12-16T16:40:24.213Z',\n",
              " 'ModifiedDate': '2022-12-19T16:05:17.207Z',\n",
              " 'PersonWaitingId': None,\n",
              " 'PersonWaiting': '',\n",
              " 'CompanyId': 2,\n",
              " 'CompanyName': 'TCB : Techconsbiz co.,ltd. (Head Office)',\n",
              " 'CompletedDate': '2022-12-19T16:05:17.220Z',\n",
              " 'Form': [{'type': 'l', 'label': 'แบบฟอร์มเบิกค่าใช้จ่าย', 'value': None},\n",
              "  {'type': 'dd', 'label': 'เรื่อง', 'value': 'เบิกค่าเบี้ยงเลี้ยง'},\n",
              "  {'type': 't',\n",
              "   'label': 'วัตถุประสงค์',\n",
              "   'value': 'เพื่อขอเบิกค่าเบี้ยเลี้ยง งานตั้งบูธผักสดที่ตึกมิตรผล วันอาทิตย์ที่ 11 ธ.ค. 65 เวลา 15.00 น. - 21.00 น.'},\n",
              "  {'type': 'tb',\n",
              "   'label': 'รายการ',\n",
              "   'value': {'columns': ['วันที่ใบเสร็จ', 'รายการ', 'จำนวนเงิน'],\n",
              "    'rows': [['11/Dec/2022', 'ขอเบิกค่าเบี้ยเลี้ยงดูแลบูธผักสด', '500.00']]}},\n",
              "  {'type': 'c', 'label': 'Total', 'value': '500.00'},\n",
              "  {'type': 'c', 'label': 'VAT', 'value': None},\n",
              "  {'type': 'c', 'label': 'Sub Total', 'value': '500.00'}],\n",
              " 'ActionHistory': [{'ActionId': 71834,\n",
              "   'MemoId': 16439,\n",
              "   'ActorId': 123,\n",
              "   'ActorName': 'สุภาภรณ์ เฮียงโฮม',\n",
              "   'ActionProcess': 'draft',\n",
              "   'ActionDate': '2022-12-16T16:23:07.030Z',\n",
              "   'Comment': '',\n",
              "   'ActionStatus': 'Draft',\n",
              "   'Platform': 'web',\n",
              "   'ActorNameTh': 'สุภาภรณ์ เฮียงโฮม',\n",
              "   'ActorNameEn': 'Supaporn Heanghom',\n",
              "   'ActorPositionId': 13,\n",
              "   'ActorPositionNameTh': 'Developer',\n",
              "   'ActorPositionNameEn': 'Developer',\n",
              "   'ActorDepartmentId': 3,\n",
              "   'ActorDepartmentNameEn': 'Information Technology',\n",
              "   'ActorDepartmentNameTh': 'เทคโนโลยีสารสนเทส',\n",
              "   'Form': None},\n",
              "  {'ActionId': 71840,\n",
              "   'MemoId': 16439,\n",
              "   'ActorId': 123,\n",
              "   'ActorName': 'สุภาภรณ์ เฮียงโฮม',\n",
              "   'ActionProcess': 'draft',\n",
              "   'ActionDate': '2022-12-16T16:34:04.747Z',\n",
              "   'Comment': '',\n",
              "   'ActionStatus': 'Draft',\n",
              "   'Platform': 'web',\n",
              "   'ActorNameTh': 'สุภาภรณ์ เฮียงโฮม',\n",
              "   'ActorNameEn': 'Supaporn Heanghom',\n",
              "   'ActorPositionId': 13,\n",
              "   'ActorPositionNameTh': 'Developer',\n",
              "   'ActorPositionNameEn': 'Developer',\n",
              "   'ActorDepartmentId': 3,\n",
              "   'ActorDepartmentNameEn': 'Information Technology',\n",
              "   'ActorDepartmentNameTh': 'เทคโนโลยีสารสนเทส',\n",
              "   'Form': [{'type': 'l', 'label': 'แบบฟอร์มเบิกค่าใช้จ่าย', 'value': None},\n",
              "    {'type': 'dd', 'label': 'เรื่อง', 'value': 'เบิกค่าเบี้ยงเลี้ยง'},\n",
              "    {'type': 't',\n",
              "     'label': 'วัตถุประสงค์',\n",
              "     'value': 'เพื่อขอเบิกค่าเบี้ยเลี้ยง งานตั้งบูธผักสดที่ตึกมิตรผล วันเสาร์ที่ 11 ธ.ค. 65 เวลา 15.00 น. - 21.00 น.'},\n",
              "    {'type': 'tb',\n",
              "     'label': 'รายการ',\n",
              "     'value': {'columns': ['วันที่ใบเสร็จ', 'รายการ', 'จำนวนเงิน'],\n",
              "      'rows': [['11/Dec/2022', 'ขอเบิกค่าเบี้ยเลี้ยงดูแลบูธผักสด', None]]}},\n",
              "    {'type': 'c', 'label': 'Total', 'value': None},\n",
              "    {'type': 'c', 'label': 'VAT', 'value': None},\n",
              "    {'type': 'c', 'label': 'Sub Total', 'value': '0.00'}]},\n",
              "  {'ActionId': 71844,\n",
              "   'MemoId': 16439,\n",
              "   'ActorId': 123,\n",
              "   'ActorName': 'สุภาภรณ์ เฮียงโฮม',\n",
              "   'ActionProcess': 'submit',\n",
              "   'ActionDate': '2022-12-16T16:40:24.260Z',\n",
              "   'Comment': '',\n",
              "   'ActionStatus': 'Draft',\n",
              "   'Platform': 'web',\n",
              "   'ActorNameTh': 'สุภาภรณ์ เฮียงโฮม',\n",
              "   'ActorNameEn': 'Supaporn Heanghom',\n",
              "   'ActorPositionId': 13,\n",
              "   'ActorPositionNameTh': 'Developer',\n",
              "   'ActorPositionNameEn': 'Developer',\n",
              "   'ActorDepartmentId': 3,\n",
              "   'ActorDepartmentNameEn': 'Information Technology',\n",
              "   'ActorDepartmentNameTh': 'เทคโนโลยีสารสนเทส',\n",
              "   'Form': [{'type': 'l', 'label': 'แบบฟอร์มเบิกค่าใช้จ่าย', 'value': None},\n",
              "    {'type': 'dd', 'label': 'เรื่อง', 'value': 'เบิกค่าเบี้ยงเลี้ยง'},\n",
              "    {'type': 't',\n",
              "     'label': 'วัตถุประสงค์',\n",
              "     'value': 'เพื่อขอเบิกค่าเบี้ยเลี้ยง งานตั้งบูธผักสดที่ตึกมิตรผล วันอาทิตย์ที่ 11 ธ.ค. 65 เวลา 15.00 น. - 21.00 น.'},\n",
              "    {'type': 'tb',\n",
              "     'label': 'รายการ',\n",
              "     'value': {'columns': ['วันที่ใบเสร็จ', 'รายการ', 'จำนวนเงิน'],\n",
              "      'rows': [['11/Dec/2022', 'ขอเบิกค่าเบี้ยเลี้ยงดูแลบูธผักสด', None]]}},\n",
              "    {'type': 'c', 'label': 'Total', 'value': None},\n",
              "    {'type': 'c', 'label': 'VAT', 'value': None},\n",
              "    {'type': 'c', 'label': 'Sub Total', 'value': '0.00'}]},\n",
              "  {'ActionId': 71957,\n",
              "   'MemoId': 16439,\n",
              "   'ActorId': 146,\n",
              "   'ActorName': 'ณัฐวรรธน์ อศวฌานนท์',\n",
              "   'ActionProcess': 'submit',\n",
              "   'ActionDate': '2022-12-16T21:39:40.353Z',\n",
              "   'Comment': '',\n",
              "   'ActionStatus': 'Wait for Requestor Review',\n",
              "   'Platform': 'web',\n",
              "   'ActorNameTh': 'ณัฐวรรธน์ อศวฌานนท์',\n",
              "   'ActorNameEn': 'Nuttawat Asawachanon',\n",
              "   'ActorPositionId': 13,\n",
              "   'ActorPositionNameTh': 'Developer',\n",
              "   'ActorPositionNameEn': 'Developer',\n",
              "   'ActorDepartmentId': 3,\n",
              "   'ActorDepartmentNameEn': 'Information Technology',\n",
              "   'ActorDepartmentNameTh': 'เทคโนโลยีสารสนเทส',\n",
              "   'Form': [{'type': 'l', 'label': 'แบบฟอร์มเบิกค่าใช้จ่าย', 'value': None},\n",
              "    {'type': 'dd', 'label': 'เรื่อง', 'value': 'เบิกค่าเบี้ยงเลี้ยง'},\n",
              "    {'type': 't',\n",
              "     'label': 'วัตถุประสงค์',\n",
              "     'value': 'เพื่อขอเบิกค่าเบี้ยเลี้ยง งานตั้งบูธผักสดที่ตึกมิตรผล วันอาทิตย์ที่ 11 ธ.ค. 65 เวลา 15.00 น. - 21.00 น.'},\n",
              "    {'type': 'tb',\n",
              "     'label': 'รายการ',\n",
              "     'value': {'columns': ['วันที่ใบเสร็จ', 'รายการ', 'จำนวนเงิน'],\n",
              "      'rows': [['11/Dec/2022', 'ขอเบิกค่าเบี้ยเลี้ยงดูแลบูธผักสด', None]]}},\n",
              "    {'type': 'c', 'label': 'Total', 'value': None},\n",
              "    {'type': 'c', 'label': 'VAT', 'value': None},\n",
              "    {'type': 'c', 'label': 'Sub Total', 'value': '0.00'}]},\n",
              "  {'ActionId': 71959,\n",
              "   'MemoId': 16439,\n",
              "   'ActorId': 123,\n",
              "   'ActorName': 'สุภาภรณ์ เฮียงโฮม',\n",
              "   'ActionProcess': 'approve',\n",
              "   'ActionDate': '2022-12-16T21:50:50.460Z',\n",
              "   'Comment': '',\n",
              "   'ActionStatus': 'Wait for Approve',\n",
              "   'Platform': 'web',\n",
              "   'ActorNameTh': 'สุภาภรณ์ เฮียงโฮม',\n",
              "   'ActorNameEn': 'Supaporn Heanghom',\n",
              "   'ActorPositionId': 13,\n",
              "   'ActorPositionNameTh': 'Developer',\n",
              "   'ActorPositionNameEn': 'Developer',\n",
              "   'ActorDepartmentId': 3,\n",
              "   'ActorDepartmentNameEn': 'Information Technology',\n",
              "   'ActorDepartmentNameTh': 'เทคโนโลยีสารสนเทส',\n",
              "   'Form': [{'type': 'l', 'label': 'แบบฟอร์มเบิกค่าใช้จ่าย', 'value': None},\n",
              "    {'type': 'dd', 'label': 'เรื่อง', 'value': 'เบิกค่าเบี้ยงเลี้ยง'},\n",
              "    {'type': 't',\n",
              "     'label': 'วัตถุประสงค์',\n",
              "     'value': 'เพื่อขอเบิกค่าเบี้ยเลี้ยง งานตั้งบูธผักสดที่ตึกมิตรผล วันอาทิตย์ที่ 11 ธ.ค. 65 เวลา 15.00 น. - 21.00 น.'},\n",
              "    {'type': 'tb',\n",
              "     'label': 'รายการ',\n",
              "     'value': {'columns': ['วันที่ใบเสร็จ', 'รายการ', 'จำนวนเงิน'],\n",
              "      'rows': [['11/Dec/2022', 'ขอเบิกค่าเบี้ยเลี้ยงดูแลบูธผักสด', None]]}},\n",
              "    {'type': 'c', 'label': 'Total', 'value': None},\n",
              "    {'type': 'c', 'label': 'VAT', 'value': None},\n",
              "    {'type': 'c', 'label': 'Sub Total', 'value': '0.00'}]},\n",
              "  {'ActionId': 72077,\n",
              "   'MemoId': 16439,\n",
              "   'ActorId': 20,\n",
              "   'ActorName': 'ธิติพล พรมปาน',\n",
              "   'ActionProcess': 'approve',\n",
              "   'ActionDate': '2022-12-19T09:03:03.520Z',\n",
              "   'Comment': '',\n",
              "   'ActionStatus': 'Wait for Approve',\n",
              "   'Platform': 'web',\n",
              "   'ActorNameTh': 'ธิติพล พรมปาน',\n",
              "   'ActorNameEn': 'Thitipon Prompan',\n",
              "   'ActorPositionId': 6,\n",
              "   'ActorPositionNameTh': 'Technical Manager',\n",
              "   'ActorPositionNameEn': 'Technical Manager',\n",
              "   'ActorDepartmentId': 3,\n",
              "   'ActorDepartmentNameEn': 'Information Technology',\n",
              "   'ActorDepartmentNameTh': 'เทคโนโลยีสารสนเทส',\n",
              "   'Form': [{'type': 'l', 'label': 'แบบฟอร์มเบิกค่าใช้จ่าย', 'value': None},\n",
              "    {'type': 'dd', 'label': 'เรื่อง', 'value': 'เบิกค่าเบี้ยงเลี้ยง'},\n",
              "    {'type': 't',\n",
              "     'label': 'วัตถุประสงค์',\n",
              "     'value': 'เพื่อขอเบิกค่าเบี้ยเลี้ยง งานตั้งบูธผักสดที่ตึกมิตรผล วันอาทิตย์ที่ 11 ธ.ค. 65 เวลา 15.00 น. - 21.00 น.'},\n",
              "    {'type': 'tb',\n",
              "     'label': 'รายการ',\n",
              "     'value': {'columns': ['วันที่ใบเสร็จ', 'รายการ', 'จำนวนเงิน'],\n",
              "      'rows': [['11/Dec/2022', 'ขอเบิกค่าเบี้ยเลี้ยงดูแลบูธผักสด', None]]}},\n",
              "    {'type': 'c', 'label': 'Total', 'value': None},\n",
              "    {'type': 'c', 'label': 'VAT', 'value': None},\n",
              "    {'type': 'c', 'label': 'Sub Total', 'value': '0.00'}]},\n",
              "  {'ActionId': 72308,\n",
              "   'MemoId': 16439,\n",
              "   'ActorId': 7,\n",
              "   'ActorName': 'ศิริวรรณ ต้นศิริอนุสรณ์',\n",
              "   'ActionProcess': 'approve',\n",
              "   'ActionDate': '2022-12-19T15:32:55.557Z',\n",
              "   'Comment': '<p>ค่าเบี้ยเลี้ยง ไป-กลับ วันละ 500 บาท</p>',\n",
              "   'ActionStatus': 'Wait for Approve',\n",
              "   'Platform': 'web',\n",
              "   'ActorNameTh': 'ศิริวรรณ ต้นศิริอนุสรณ์',\n",
              "   'ActorNameEn': 'Siriwan Tonsirianusorn',\n",
              "   'ActorPositionId': 4,\n",
              "   'ActorPositionNameTh': 'GM – Back Office\\u200b',\n",
              "   'ActorPositionNameEn': 'GM – Back Office\\u200b',\n",
              "   'ActorDepartmentId': 1,\n",
              "   'ActorDepartmentNameEn': 'Management',\n",
              "   'ActorDepartmentNameTh': 'บริหาร',\n",
              "   'Form': [{'type': 'l', 'label': 'แบบฟอร์มเบิกค่าใช้จ่าย', 'value': None},\n",
              "    {'type': 'dd', 'label': 'เรื่อง', 'value': 'เบิกค่าเบี้ยงเลี้ยง'},\n",
              "    {'type': 't',\n",
              "     'label': 'วัตถุประสงค์',\n",
              "     'value': 'เพื่อขอเบิกค่าเบี้ยเลี้ยง งานตั้งบูธผักสดที่ตึกมิตรผล วันอาทิตย์ที่ 11 ธ.ค. 65 เวลา 15.00 น. - 21.00 น.'},\n",
              "    {'type': 'tb',\n",
              "     'label': 'รายการ',\n",
              "     'value': {'columns': ['วันที่ใบเสร็จ', 'รายการ', 'จำนวนเงิน'],\n",
              "      'rows': [['11/Dec/2022', 'ขอเบิกค่าเบี้ยเลี้ยงดูแลบูธผักสด', None]]}},\n",
              "    {'type': 'c', 'label': 'Total', 'value': None},\n",
              "    {'type': 'c', 'label': 'VAT', 'value': None},\n",
              "    {'type': 'c', 'label': 'Sub Total', 'value': '0.00'}]},\n",
              "  {'ActionId': 72329,\n",
              "   'MemoId': 16439,\n",
              "   'ActorId': 52,\n",
              "   'ActorName': 'ชัญญา คงประเสริฐอมร',\n",
              "   'ActionProcess': 'approve',\n",
              "   'ActionDate': '2022-12-19T16:05:17.253Z',\n",
              "   'Comment': '<p>ดำเนินการ ชำระเงิน วันที่ 19/12/2022</p>',\n",
              "   'ActionStatus': 'Wait for Approve',\n",
              "   'Platform': 'web',\n",
              "   'ActorNameTh': 'ชัญญา คงประเสริฐอมร',\n",
              "   'ActorNameEn': 'Chanya Khongprasertamorn',\n",
              "   'ActorPositionId': 18,\n",
              "   'ActorPositionNameTh': 'Administrator',\n",
              "   'ActorPositionNameEn': 'Administrator',\n",
              "   'ActorDepartmentId': 10,\n",
              "   'ActorDepartmentNameEn': 'Back Office',\n",
              "   'ActorDepartmentNameTh': 'สำนักงาน',\n",
              "   'Form': [{'type': 'l', 'label': 'แบบฟอร์มเบิกค่าใช้จ่าย', 'value': None},\n",
              "    {'type': 'dd', 'label': 'เรื่อง', 'value': 'เบิกค่าเบี้ยงเลี้ยง'},\n",
              "    {'type': 't',\n",
              "     'label': 'วัตถุประสงค์',\n",
              "     'value': 'เพื่อขอเบิกค่าเบี้ยเลี้ยง งานตั้งบูธผักสดที่ตึกมิตรผล วันอาทิตย์ที่ 11 ธ.ค. 65 เวลา 15.00 น. - 21.00 น.'},\n",
              "    {'type': 'tb',\n",
              "     'label': 'รายการ',\n",
              "     'value': {'columns': ['วันที่ใบเสร็จ', 'รายการ', 'จำนวนเงิน'],\n",
              "      'rows': [['11/Dec/2022',\n",
              "        'ขอเบิกค่าเบี้ยเลี้ยงดูแลบูธผักสด',\n",
              "        '500.00']]}},\n",
              "    {'type': 'c', 'label': 'Total', 'value': '500.00'},\n",
              "    {'type': 'c', 'label': 'VAT', 'value': None},\n",
              "    {'type': 'c', 'label': 'Sub Total', 'value': '500.00'}]}]}"
            ]
          },
          "metadata": {},
          "execution_count": 28
        }
      ]
    },
    {
      "cell_type": "markdown",
      "source": [
        "## collect all ID's"
      ],
      "metadata": {
        "id": "GdkPPbCdy2S7"
      }
    },
    {
      "cell_type": "code",
      "source": [
        "request_00_ls = list()\n",
        "numhist_00 = list()\n",
        "for req in folder00_ls:\n",
        "    f = open(os.path.join(folder00_path,req))\n",
        "    json_temp = json.load(f)\n",
        "    f.close()\n",
        "    action_ls = list()\n",
        "    for action in json_temp['ActionHistory']:\n",
        "        action_ls.append(action['ActionStatus'])\n",
        "\n",
        "    request_00_ls.append(action_ls)\n",
        "    numhist_00.append(len(json_temp['ActionHistory']))"
      ],
      "metadata": {
        "id": "QLtOMgOZ3zjy"
      },
      "execution_count": 11,
      "outputs": []
    },
    {
      "cell_type": "code",
      "source": [
        "plt.hist(numhist_00)"
      ],
      "metadata": {
        "colab": {
          "base_uri": "https://localhost:8080/",
          "height": 520
        },
        "id": "RAjwNcWfhete",
        "outputId": "b1f2bd28-0fb6-481a-d93d-d4224acd3b94"
      },
      "execution_count": 12,
      "outputs": [
        {
          "output_type": "execute_result",
          "data": {
            "text/plain": [
              "(array([1.892e+03, 1.872e+03, 4.670e+02, 1.990e+02, 8.400e+01, 2.500e+01,\n",
              "        1.500e+01, 3.000e+00, 7.000e+00, 1.000e+00]),\n",
              " array([ 1. ,  3.9,  6.8,  9.7, 12.6, 15.5, 18.4, 21.3, 24.2, 27.1, 30. ]),\n",
              " <BarContainer object of 10 artists>)"
            ]
          },
          "metadata": {},
          "execution_count": 12
        },
        {
          "output_type": "display_data",
          "data": {
            "text/plain": [
              "<Figure size 640x480 with 1 Axes>"
            ],
            "image/png": "[encoded data removed]"
          },
          "metadata": {}
        }
      ]
    },
    {
      "cell_type": "code",
      "source": [
        "request_10_ls = list()\n",
        "numhist_10 = list()\n",
        "for req in folder01_ls:\n",
        "    f = open(os.path.join(folder01_path,req))\n",
        "    json_temp = json.load(f)\n",
        "    f.close()\n",
        "    action_ls = list()\n",
        "    for action in json_temp['ActionHistory']:\n",
        "        action_ls.append(action['ActionStatus'])\n",
        "\n",
        "    request_10_ls.append(action_ls)\n",
        "    numhist_10.append(len(json_temp['ActionHistory']))"
      ],
      "metadata": {
        "id": "XjQ4kfoCxcfG"
      },
      "execution_count": 13,
      "outputs": []
    },
    {
      "cell_type": "code",
      "source": [
        "plt.hist(numhist_10)"
      ],
      "metadata": {
        "colab": {
          "base_uri": "https://localhost:8080/",
          "height": 503
        },
        "id": "7FiQYmst6KQ1",
        "outputId": "8218d24a-1f7d-494d-f89c-d6d9182e1353"
      },
      "execution_count": 14,
      "outputs": [
        {
          "output_type": "execute_result",
          "data": {
            "text/plain": [
              "(array([25., 16.,  7.,  6.,  3.,  2.,  1.,  3.,  0.,  1.]),\n",
              " array([ 1. ,  5.4,  9.8, 14.2, 18.6, 23. , 27.4, 31.8, 36.2, 40.6, 45. ]),\n",
              " <BarContainer object of 10 artists>)"
            ]
          },
          "metadata": {},
          "execution_count": 14
        },
        {
          "output_type": "display_data",
          "data": {
            "text/plain": [
              "<Figure size 640x480 with 1 Axes>"
            ],
            "image/png": "[encoded data removed]"
          },
          "metadata": {}
        }
      ]
    },
    {
      "cell_type": "code",
      "source": [
        "request_20_ls = list()\n",
        "numhist_20 = list()\n",
        "for req in folder02_ls:\n",
        "    f = open(os.path.join(folder02_path,req))\n",
        "    json_temp = json.load(f)\n",
        "    f.close()\n",
        "    action_ls = list()\n",
        "    for action in json_temp['ActionHistory']:\n",
        "        action_ls.append(action['ActionStatus'])\n",
        "\n",
        "    request_20_ls.append(action_ls)\n",
        "    numhist_20.append(len(json_temp['ActionHistory']))"
      ],
      "metadata": {
        "id": "UYGpYcTk9F5E"
      },
      "execution_count": 8,
      "outputs": []
    },
    {
      "cell_type": "code",
      "source": [
        "plt.hist(numhist_20)"
      ],
      "metadata": {
        "colab": {
          "base_uri": "https://localhost:8080/",
          "height": 503
        },
        "id": "gzlii7ZNhQzF",
        "outputId": "0ef9ec8d-f017-4edb-d594-9f136fc13bb2"
      },
      "execution_count": 9,
      "outputs": [
        {
          "output_type": "execute_result",
          "data": {
            "text/plain": [
              "(array([110., 100.,  45.,  26.,  11.,   7.,   1.,   2.,   0.,   1.]),\n",
              " array([ 2. ,  4.2,  6.4,  8.6, 10.8, 13. , 15.2, 17.4, 19.6, 21.8, 24. ]),\n",
              " <BarContainer object of 10 artists>)"
            ]
          },
          "metadata": {},
          "execution_count": 9
        },
        {
          "output_type": "display_data",
          "data": {
            "text/plain": [
              "<Figure size 640x480 with 1 Axes>"
            ],
            "image/png": "[encoded data removed]"
          },
          "metadata": {}
        }
      ]
    },
    {
      "cell_type": "markdown",
      "source": [
        "```python\n",
        "\n",
        "import pickle\n",
        "\n",
        "a = {'hello': 'world'}\n",
        "\n",
        "with open('filename.pickle', 'wb') as handle:\n",
        "    pickle.dump(a, handle, protocol=pickle.HIGHEST_PROTOCOL)\n",
        "\n",
        "with open('filename.pickle', 'rb') as handle:\n",
        "    b = pickle.load(handle)\n",
        "\n",
        "print(a == b)\n",
        "\n",
        "```"
      ],
      "metadata": {
        "id": "144ze61Ao3t8"
      }
    },
    {
      "cell_type": "markdown",
      "source": [
        "# save"
      ],
      "metadata": {
        "id": "or7I6RkPWE9r"
      }
    },
    {
      "cell_type": "code",
      "source": [
        "with open(os.path.join(data_path,'request_00_ls.pickle'), 'wb') as handle:\n",
        "    pickle.dump(request_00_ls, handle, protocol=pickle.HIGHEST_PROTOCOL)\n",
        "\n",
        "with open(os.path.join(data_path,'request_10_ls.pickle'), 'wb') as handle:\n",
        "    pickle.dump(request_10_ls, handle, protocol=pickle.HIGHEST_PROTOCOL)\n",
        "\n",
        "with open(os.path.join(data_path,'request_20_ls.pickle'), 'wb') as handle:\n",
        "    pickle.dump(request_20_ls, handle, protocol=pickle.HIGHEST_PROTOCOL)"
      ],
      "metadata": {
        "id": "xVTjNJ5lo9iv"
      },
      "execution_count": 18,
      "outputs": []
    },
    {
      "cell_type": "code",
      "source": [
        "with open(os.path.join(data_path,'numhist_00.pickle'), 'wb') as handle:\n",
        "    pickle.dump(numhist_00, handle, protocol=pickle.HIGHEST_PROTOCOL)\n",
        "\n",
        "with open(os.path.join(data_path,'numhist_10.pickle'), 'wb') as handle:\n",
        "    pickle.dump(numhist_10, handle, protocol=pickle.HIGHEST_PROTOCOL)\n",
        "\n",
        "with open(os.path.join(data_path,'numhist_20.pickle'), 'wb') as handle:\n",
        "    pickle.dump(numhist_20, handle, protocol=pickle.HIGHEST_PROTOCOL)"
      ],
      "metadata": {
        "id": "VPniw1n4pUfI"
      },
      "execution_count": 19,
      "outputs": []
    },
    {
      "cell_type": "markdown",
      "source": [
        "# load"
      ],
      "metadata": {
        "id": "GVUtvuVkWG88"
      }
    },
    {
      "cell_type": "code",
      "source": [
        "with open(os.path.join(data_path,'request_00_ls.pickle'), 'rb') as handle:\n",
        "    request_00_ls = pickle.load(handle)\n",
        "with open(os.path.join(data_path,'request_10_ls.pickle'), 'rb') as handle:\n",
        "    request_10_ls = pickle.load(handle)\n",
        "with open(os.path.join(data_path,'request_20_ls.pickle'), 'rb') as handle:\n",
        "    request_20_ls = pickle.load(handle)\n",
        "\n",
        "with open(os.path.join(data_path,'numhist_00.pickle'), 'rb') as handle:\n",
        "    numhist_00 = pickle.load(handle)\n",
        "with open(os.path.join(data_path,'numhist_10.pickle'), 'rb') as handle:\n",
        "    numhist_10 = pickle.load(handle)\n",
        "with open(os.path.join(data_path,'numhist_20.pickle'), 'rb') as handle:\n",
        "    numhist_20 = pickle.load(handle)"
      ],
      "metadata": {
        "id": "_XRzFT9SpfIf"
      },
      "execution_count": 10,
      "outputs": []
    },
    {
      "cell_type": "markdown",
      "source": [
        "# count numbers of status"
      ],
      "metadata": {
        "id": "t91cPYtpkAB6"
      }
    },
    {
      "cell_type": "code",
      "source": [],
      "metadata": {
        "id": "sjYMDF3SWfrU"
      },
      "execution_count": null,
      "outputs": []
    }
  ]
}