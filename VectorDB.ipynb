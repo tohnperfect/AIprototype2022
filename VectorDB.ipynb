{
  "nbformat": 4,
  "nbformat_minor": 0,
  "metadata": {
    "colab": {
      "provenance": [],
      "authorship_tag": "ABX9TyPA0pNI0MgD13U0XQztXijo",
      "include_colab_link": true
    },
    "kernelspec": {
      "name": "python3",
      "display_name": "Python 3"
    },
    "language_info": {
      "name": "python"
    }
  },
  "cells": [
    {
      "cell_type": "markdown",
      "metadata": {
        "id": "view-in-github",
        "colab_type": "text"
      },
      "source": [
        "<a href=\"https://colab.research.google.com/github/tohnperfect/AIprototype2022/blob/main/VectorDB.ipynb\" target=\"_parent\"><img src=\"https://colab.research.google.com/assets/colab-badge.svg\" alt=\"Open In Colab\"/></a>"
      ]
    },
    {
      "cell_type": "code",
      "execution_count": 1,
      "metadata": {
        "colab": {
          "base_uri": "https://localhost:8080/"
        },
        "id": "qKFSK-Amcw5v",
        "outputId": "d5204f38-e334-4d12-d417-826ff0976eb6"
      },
      "outputs": [
        {
          "output_type": "stream",
          "name": "stdout",
          "text": [
            "Requirement already satisfied: milvus in /usr/local/lib/python3.10/dist-packages (2.2.11)\n"
          ]
        }
      ],
      "source": [
        "!pip install milvus"
      ]
    },
    {
      "cell_type": "code",
      "source": [
        "!pip install milvus[client]"
      ],
      "metadata": {
        "colab": {
          "base_uri": "https://localhost:8080/"
        },
        "id": "ZFDssACzfiEu",
        "outputId": "466ae451-9013-4100-ec44-ebc9ded6c29d"
      },
      "execution_count": 2,
      "outputs": [
        {
          "output_type": "stream",
          "name": "stdout",
          "text": [
            "Requirement already satisfied: milvus[client] in /usr/local/lib/python3.10/dist-packages (2.2.11)\n",
            "Requirement already satisfied: pymilvus<2.3.0,>=2.2.0 in /usr/local/lib/python3.10/dist-packages (from milvus[client]) (2.2.14)\n",
            "Requirement already satisfied: grpcio<=1.56.0,>=1.49.1 in /usr/local/lib/python3.10/dist-packages (from pymilvus<2.3.0,>=2.2.0->milvus[client]) (1.56.0)\n",
            "Requirement already satisfied: protobuf>=3.20.0 in /usr/local/lib/python3.10/dist-packages (from pymilvus<2.3.0,>=2.2.0->milvus[client]) (3.20.3)\n",
            "Requirement already satisfied: environs<=9.5.0 in /usr/local/lib/python3.10/dist-packages (from pymilvus<2.3.0,>=2.2.0->milvus[client]) (9.5.0)\n",
            "Requirement already satisfied: ujson>=2.0.0 in /usr/local/lib/python3.10/dist-packages (from pymilvus<2.3.0,>=2.2.0->milvus[client]) (5.8.0)\n",
            "Requirement already satisfied: pandas>=1.2.4 in /usr/local/lib/python3.10/dist-packages (from pymilvus<2.3.0,>=2.2.0->milvus[client]) (1.5.3)\n",
            "Requirement already satisfied: marshmallow>=3.0.0 in /usr/local/lib/python3.10/dist-packages (from environs<=9.5.0->pymilvus<2.3.0,>=2.2.0->milvus[client]) (3.20.1)\n",
            "Requirement already satisfied: python-dotenv in /usr/local/lib/python3.10/dist-packages (from environs<=9.5.0->pymilvus<2.3.0,>=2.2.0->milvus[client]) (1.0.0)\n",
            "Requirement already satisfied: python-dateutil>=2.8.1 in /usr/local/lib/python3.10/dist-packages (from pandas>=1.2.4->pymilvus<2.3.0,>=2.2.0->milvus[client]) (2.8.2)\n",
            "Requirement already satisfied: pytz>=2020.1 in /usr/local/lib/python3.10/dist-packages (from pandas>=1.2.4->pymilvus<2.3.0,>=2.2.0->milvus[client]) (2022.7.1)\n",
            "Requirement already satisfied: numpy>=1.21.0 in /usr/local/lib/python3.10/dist-packages (from pandas>=1.2.4->pymilvus<2.3.0,>=2.2.0->milvus[client]) (1.22.4)\n",
            "Requirement already satisfied: packaging>=17.0 in /usr/local/lib/python3.10/dist-packages (from marshmallow>=3.0.0->environs<=9.5.0->pymilvus<2.3.0,>=2.2.0->milvus[client]) (23.1)\n",
            "Requirement already satisfied: six>=1.5 in /usr/local/lib/python3.10/dist-packages (from python-dateutil>=2.8.1->pandas>=1.2.4->pymilvus<2.3.0,>=2.2.0->milvus[client]) (1.16.0)\n"
          ]
        }
      ]
    },
    {
      "cell_type": "markdown",
      "source": [
        "# Example codes"
      ],
      "metadata": {
        "id": "VVOzEJorzeCl"
      }
    },
    {
      "cell_type": "code",
      "source": [
        "from milvus import default_server\n",
        "from pymilvus import connections, utility"
      ],
      "metadata": {
        "id": "MJplruWUszwV"
      },
      "execution_count": 3,
      "outputs": []
    },
    {
      "cell_type": "code",
      "source": [
        "from pymilvus import (\n",
        "    connections,\n",
        "    utility,\n",
        "    FieldSchema,\n",
        "    CollectionSchema,\n",
        "    DataType,\n",
        "    Collection,\n",
        ")"
      ],
      "metadata": {
        "id": "44gHL18GtDeX"
      },
      "execution_count": 4,
      "outputs": []
    },
    {
      "cell_type": "code",
      "source": [
        "with default_server:\n",
        "  # Milvus Lite has already started, use default_server here.\n",
        "  connections.connect(host='127.0.0.1', port=default_server.listen_port)"
      ],
      "metadata": {
        "colab": {
          "base_uri": "https://localhost:8080/"
        },
        "id": "qaZTihh3e7aX",
        "outputId": "dc063933-5324-45ff-e58b-4a9bac6e4508"
      },
      "execution_count": 5,
      "outputs": [
        {
          "output_type": "stream",
          "name": "stdout",
          "text": [
            "\n",
            "\n",
            "    __  _________ _   ____  ______\n",
            "   /  |/  /  _/ /| | / / / / / __/\n",
            "  / /|_/ // // /_| |/ / /_/ /\\ \\\n",
            " /_/  /_/___/____/___/\\____/___/ {Lite}\n",
            "\n",
            " Welcome to use Milvus!\n",
            "\n",
            " Version:   v2.2.11-lite\n",
            " Process:   1122\n",
            " Started:   2023-07-24 10:42:39\n",
            " Config:    /root/.milvus.io/milvus-server/2.2.11/configs/milvus.yaml\n",
            " Logs:      /root/.milvus.io/milvus-server/2.2.11/logs\n",
            "\n",
            " Ctrl+C to exit ...\n"
          ]
        },
        {
          "output_type": "stream",
          "name": "stderr",
          "text": [
            "WARNING:pymilvus.decorators:\u001b[93m[__internal_register] retry:4, cost: 0.27s, reason: <_InactiveRpcError: StatusCode.UNAVAILABLE, internal: Milvus Proxy is not ready yet. please wait>\u001b[0m\n",
            "WARNING:pymilvus.decorators:\u001b[93m[__internal_register] retry:5, cost: 0.81s, reason: <_InactiveRpcError: StatusCode.UNAVAILABLE, internal: Milvus Proxy is not ready yet. please wait>\u001b[0m\n",
            "WARNING:pymilvus.decorators:\u001b[93m[__internal_register] retry:6, cost: 2.43s, reason: <_InactiveRpcError: StatusCode.UNAVAILABLE, internal: Milvus Proxy is not ready yet. please wait>\u001b[0m\n",
            "WARNING:pymilvus.decorators:\u001b[93m[__internal_register] retry:7, cost: 7.29s, reason: <_InactiveRpcError: StatusCode.UNAVAILABLE, internal: Milvus Proxy is not ready yet. please wait>\u001b[0m\n",
            "WARNING:pymilvus.decorators:\u001b[93m[__internal_register] retry:8, cost: 21.87s, reason: <_InactiveRpcError: StatusCode.UNAVAILABLE, internal: Milvus Proxy is not ready yet. please wait>\u001b[0m\n"
          ]
        }
      ]
    },
    {
      "cell_type": "code",
      "source": [
        "# Start your milvus server\n",
        "default_server.start()\n",
        "\n",
        "# Now you could connect with localhost and the given port\n",
        "# Port is defined by default_server.listen_port\n",
        "connections.connect(host='127.0.0.1', port=default_server.listen_port)\n",
        "\n",
        "# Check if the server is ready.\n",
        "print(utility.get_server_version())"
      ],
      "metadata": {
        "colab": {
          "base_uri": "https://localhost:8080/"
        },
        "id": "Nb8bzRhDfOBj",
        "outputId": "85cd9072-20bc-45b7-d4b7-d4821a4f9328"
      },
      "execution_count": 4,
      "outputs": [
        {
          "output_type": "stream",
          "name": "stdout",
          "text": [
            "\n",
            "\n",
            "    __  _________ _   ____  ______\n",
            "   /  |/  /  _/ /| | / / / / / __/\n",
            "  / /|_/ // // /_| |/ / /_/ /\\ \\\n",
            " /_/  /_/___/____/___/\\____/___/ {Lite}\n",
            "\n",
            " Welcome to use Milvus!\n",
            "\n",
            " Version:   v2.2.11-lite\n",
            " Process:   590\n",
            " Started:   2023-07-24 16:20:17\n",
            " Config:    /root/.milvus.io/milvus-server/2.2.11/configs/milvus.yaml\n",
            " Logs:      /root/.milvus.io/milvus-server/2.2.11/logs\n",
            "\n",
            " Ctrl+C to exit ...\n",
            "v2.2.11-lite\n"
          ]
        }
      ]
    },
    {
      "cell_type": "code",
      "source": [
        "fields = [\n",
        "    FieldSchema(name=\"pk\", dtype=DataType.INT64, is_primary=True, auto_id=False),\n",
        "    FieldSchema(name=\"random\", dtype=DataType.DOUBLE),\n",
        "    FieldSchema(name=\"embeddings\", dtype=DataType.FLOAT_VECTOR, dim=8)\n",
        "]\n",
        "schema = CollectionSchema(fields, \"hello_milvus is the simplest demo to introduce the APIs\")\n",
        "hello_milvus = Collection(\"hello_milvus\", schema)"
      ],
      "metadata": {
        "id": "07T_ImrUs2vy"
      },
      "execution_count": 6,
      "outputs": []
    },
    {
      "cell_type": "code",
      "source": [
        "import random\n",
        "entities = [\n",
        "    [i for i in range(3000)],  # field pk\n",
        "    [float(random.randrange(-20, -10)) for _ in range(3000)],  # field random\n",
        "    [[random.random() for _ in range(8)] for _ in range(3000)],  # field embeddings\n",
        "]\n",
        "insert_result = hello_milvus.insert(entities)\n",
        "# After final entity is inserted, it is best to call flush to have no growing segments left in memory\n",
        "hello_milvus.flush()"
      ],
      "metadata": {
        "id": "sf81Rxv0tJCD"
      },
      "execution_count": 7,
      "outputs": []
    },
    {
      "cell_type": "code",
      "source": [
        "len(entities)"
      ],
      "metadata": {
        "colab": {
          "base_uri": "https://localhost:8080/"
        },
        "id": "xHdYz_hwtOwA",
        "outputId": "b7121863-f9c6-465b-c987-c87c73764234"
      },
      "execution_count": 10,
      "outputs": [
        {
          "output_type": "execute_result",
          "data": {
            "text/plain": [
              "3"
            ]
          },
          "metadata": {},
          "execution_count": 10
        }
      ]
    },
    {
      "cell_type": "code",
      "source": [
        "index = {\n",
        "    \"index_type\": \"IVF_FLAT\",\n",
        "    \"metric_type\": \"L2\",\n",
        "    \"params\": {\"nlist\": 128},\n",
        "}\n",
        "hello_milvus.create_index(\"embeddings\", index)\n"
      ],
      "metadata": {
        "colab": {
          "base_uri": "https://localhost:8080/"
        },
        "id": "TrSp9GIWtRg-",
        "outputId": "a1ee7084-2e0b-4444-a94a-d6fda5574e21"
      },
      "execution_count": 11,
      "outputs": [
        {
          "output_type": "stream",
          "name": "stderr",
          "text": [
            "WARNING:pymilvus.decorators:alloc_timestamp unimplemented, ignore it\n"
          ]
        },
        {
          "output_type": "execute_result",
          "data": {
            "text/plain": [
              "Status(code=0, message=)"
            ]
          },
          "metadata": {},
          "execution_count": 11
        }
      ]
    },
    {
      "cell_type": "code",
      "source": [
        "hello_milvus.load()\n",
        "vectors_to_search = entities[-1][-2:]\n",
        "search_params = {\n",
        "    \"metric_type\": \"L2\",\n",
        "    \"params\": {\"nprobe\": 10},\n",
        "}\n",
        "result = hello_milvus.search(vectors_to_search, \"embeddings\", search_params, limit=3, output_fields=[\"pk\",\"random\"])\n"
      ],
      "metadata": {
        "id": "dSLuYd-OtlT3"
      },
      "execution_count": 22,
      "outputs": []
    },
    {
      "cell_type": "code",
      "source": [
        "vectors_to_search"
      ],
      "metadata": {
        "colab": {
          "base_uri": "https://localhost:8080/"
        },
        "id": "NqTyiFH8ui7x",
        "outputId": "0ca2a1cf-a01c-4349-fe88-d2c0a5a5e358"
      },
      "execution_count": 17,
      "outputs": [
        {
          "output_type": "execute_result",
          "data": {
            "text/plain": [
              "[[0.3177493563909083,\n",
              "  0.2223756061280907,\n",
              "  0.04799438408919132,\n",
              "  0.8485937802753468,\n",
              "  0.3423304626098166,\n",
              "  0.2339029737687267,\n",
              "  0.310710557397019,\n",
              "  0.003722010305584389],\n",
              " [0.6426312709799793,\n",
              "  0.9843688019715365,\n",
              "  0.6428635802644465,\n",
              "  0.7012648838056548,\n",
              "  0.6732065100037833,\n",
              "  0.7943272205736936,\n",
              "  0.2063378831729139,\n",
              "  0.3722454697420817]]"
            ]
          },
          "metadata": {},
          "execution_count": 17
        }
      ]
    },
    {
      "cell_type": "code",
      "source": [
        "for i,hits in enumerate(result):\n",
        "    print(f'vector to search: {vectors_to_search[i]}')\n",
        "    for hit in hits:\n",
        "        print(f\"hit: {hit}, random field: {hit.entity.get('random')}\")\n",
        "\n",
        "#print(search_latency_fmt.format(end_time - start_time))"
      ],
      "metadata": {
        "colab": {
          "base_uri": "https://localhost:8080/"
        },
        "id": "wtkh7qz9uCzy",
        "outputId": "e4627225-7e86-4dc8-be17-2d15ad46407f"
      },
      "execution_count": 23,
      "outputs": [
        {
          "output_type": "stream",
          "name": "stdout",
          "text": [
            "vector to search: [0.3177493563909083, 0.2223756061280907, 0.04799438408919132, 0.8485937802753468, 0.3423304626098166, 0.2339029737687267, 0.310710557397019, 0.003722010305584389]\n",
            "hit: id: 2998, distance: 0.0, entity: {'pk': 2998, 'random': -19.0}, random field: -19.0\n",
            "hit: id: 1694, distance: 0.11356963962316513, entity: {'pk': 1694, 'random': -19.0}, random field: -19.0\n",
            "hit: id: 2989, distance: 0.14509862661361694, entity: {'pk': 2989, 'random': -17.0}, random field: -17.0\n",
            "vector to search: [0.6426312709799793, 0.9843688019715365, 0.6428635802644465, 0.7012648838056548, 0.6732065100037833, 0.7943272205736936, 0.2063378831729139, 0.3722454697420817]\n",
            "hit: id: 2999, distance: 0.0, entity: {'pk': 2999, 'random': -11.0}, random field: -11.0\n",
            "hit: id: 2077, distance: 0.09053687751293182, entity: {'pk': 2077, 'random': -18.0}, random field: -18.0\n",
            "hit: id: 384, distance: 0.1561051309108734, entity: {'pk': 384, 'random': -11.0}, random field: -11.0\n"
          ]
        }
      ]
    },
    {
      "cell_type": "markdown",
      "source": [
        "# Load AIDB"
      ],
      "metadata": {
        "id": "ggFlVuBLzU1X"
      }
    },
    {
      "cell_type": "code",
      "source": [
        "import sqlite3\n",
        "import pandas as pd"
      ],
      "metadata": {
        "id": "0TR3YOHFzyxe"
      },
      "execution_count": 5,
      "outputs": []
    },
    {
      "cell_type": "code",
      "source": [
        "conn = sqlite3.connect('nayoo_AIDB.db')\n",
        "ai_df = pd.read_sql_query(\"SELECT * FROM aidash\", conn)\n",
        "conn.close()"
      ],
      "metadata": {
        "id": "Bv6iZ9Bwzh36"
      },
      "execution_count": 6,
      "outputs": []
    },
    {
      "cell_type": "code",
      "source": [
        "ai_df = ai_df.dropna(subset=['id'])"
      ],
      "metadata": {
        "id": "JkWW-H5eJho9"
      },
      "execution_count": 20,
      "outputs": []
    },
    {
      "cell_type": "code",
      "source": [
        "ai_df.head()"
      ],
      "metadata": {
        "colab": {
          "base_uri": "https://localhost:8080/",
          "height": 407
        },
        "id": "pdQVFp41z7Mi",
        "outputId": "ec1bc6ae-1ae7-4711-bdea-7464e6f46996"
      },
      "execution_count": 21,
      "outputs": [
        {
          "output_type": "execute_result",
          "data": {
            "text/plain": [
              "  id   latitude   longitude  sell_price  number_of_bedroom  \\\n",
              "0  1  16.139321  102.631587      390000                  2   \n",
              "1  4  16.676156  102.917998      820000                  1   \n",
              "2  6  16.057538  102.726317     7000000                  3   \n",
              "3  7  16.530401  102.594174      710000                  0   \n",
              "4  9  15.854410  102.616296    13000000                  0   \n",
              "\n",
              "   number_of_bathroom  number_of_rai  number_of_ngan  number_of_va  renovate  \\\n",
              "0                   2            0.0             1.0          45.0       0.0   \n",
              "1                   1            0.0             0.0          88.0       0.0   \n",
              "2                   4            0.0             0.0          61.0       0.0   \n",
              "3                   0            3.0             2.0           9.0       0.0   \n",
              "4                   0           38.0             0.0          92.6       0.0   \n",
              "\n",
              "   ... fortrain forviz          time_stamps  central_cost user_click  \\\n",
              "0  ...        1      1  2023-05-24 15:35:04             0      240.0   \n",
              "1  ...        1      1  2023-05-24 15:35:04             0      118.0   \n",
              "2  ...        1      1  2023-05-24 15:35:04             0      219.0   \n",
              "3  ...        1      1  2023-05-24 15:35:04                    260.0   \n",
              "4  ...        1      1  2023-05-24 15:35:04                     77.0   \n",
              "\n",
              "  sub_dis_click  prop_click sub_district demand_score  \\\n",
              "0         240.0      1168.0  ศรีบุญเรือง    49.503438   \n",
              "1         338.0      5458.0      ทรายมูล    49.935331   \n",
              "2        3250.0       629.0      ในเมือง    51.564502   \n",
              "3        1129.0      1865.0      หนองบัว    50.127279   \n",
              "4         271.0      1341.0     เก่างิ้ว    50.104252   \n",
              "\n",
              "                          combined_index  \n",
              "0            บ้านเดี่ยว_ศรีบุญเรือง_ชนบท  \n",
              "1              บ้านเดี่ยว_ทรายมูล_น้ำพอง  \n",
              "2  อาคารพาณิชย์/สำนักงาน_ในเมือง_บ้านไผ่  \n",
              "3                 ที่ดิน_หนองบัว_บ้านฝาง  \n",
              "4                     ที่ดิน_เก่างิ้ว_พล  \n",
              "\n",
              "[5 rows x 48 columns]"
            ],
            "text/html": [
              "\n",
              "\n",
              "  <div id=\"df-285a719a-2c8f-4d56-afaf-1f4be2d18040\">\n",
              "    <div class=\"colab-df-container\">\n",
              "      <div>\n",
              "<style scoped>\n",
              "    .dataframe tbody tr th:only-of-type {\n",
              "        vertical-align: middle;\n",
              "    }\n",
              "\n",
              "    .dataframe tbody tr th {\n",
              "        vertical-align: top;\n",
              "    }\n",
              "\n",
              "    .dataframe thead th {\n",
              "        text-align: right;\n",
              "    }\n",
              "</style>\n",
              "<table border=\"1\" class=\"dataframe\">\n",
              "  <thead>\n",
              "    <tr style=\"text-align: right;\">\n",
              "      <th></th>\n",
              "      <th>id</th>\n",
              "      <th>latitude</th>\n",
              "      <th>longitude</th>\n",
              "      <th>sell_price</th>\n",
              "      <th>number_of_bedroom</th>\n",
              "      <th>number_of_bathroom</th>\n",
              "      <th>number_of_rai</th>\n",
              "      <th>number_of_ngan</th>\n",
              "      <th>number_of_va</th>\n",
              "      <th>renovate</th>\n",
              "      <th>...</th>\n",
              "      <th>fortrain</th>\n",
              "      <th>forviz</th>\n",
              "      <th>time_stamps</th>\n",
              "      <th>central_cost</th>\n",
              "      <th>user_click</th>\n",
              "      <th>sub_dis_click</th>\n",
              "      <th>prop_click</th>\n",
              "      <th>sub_district</th>\n",
              "      <th>demand_score</th>\n",
              "      <th>combined_index</th>\n",
              "    </tr>\n",
              "  </thead>\n",
              "  <tbody>\n",
              "    <tr>\n",
              "      <th>0</th>\n",
              "      <td>1</td>\n",
              "      <td>16.139321</td>\n",
              "      <td>102.631587</td>\n",
              "      <td>390000</td>\n",
              "      <td>2</td>\n",
              "      <td>2</td>\n",
              "      <td>0.0</td>\n",
              "      <td>1.0</td>\n",
              "      <td>45.0</td>\n",
              "      <td>0.0</td>\n",
              "      <td>...</td>\n",
              "      <td>1</td>\n",
              "      <td>1</td>\n",
              "      <td>2023-05-24 15:35:04</td>\n",
              "      <td>0</td>\n",
              "      <td>240.0</td>\n",
              "      <td>240.0</td>\n",
              "      <td>1168.0</td>\n",
              "      <td>ศรีบุญเรือง</td>\n",
              "      <td>49.503438</td>\n",
              "      <td>บ้านเดี่ยว_ศรีบุญเรือง_ชนบท</td>\n",
              "    </tr>\n",
              "    <tr>\n",
              "      <th>1</th>\n",
              "      <td>4</td>\n",
              "      <td>16.676156</td>\n",
              "      <td>102.917998</td>\n",
              "      <td>820000</td>\n",
              "      <td>1</td>\n",
              "      <td>1</td>\n",
              "      <td>0.0</td>\n",
              "      <td>0.0</td>\n",
              "      <td>88.0</td>\n",
              "      <td>0.0</td>\n",
              "      <td>...</td>\n",
              "      <td>1</td>\n",
              "      <td>1</td>\n",
              "      <td>2023-05-24 15:35:04</td>\n",
              "      <td>0</td>\n",
              "      <td>118.0</td>\n",
              "      <td>338.0</td>\n",
              "      <td>5458.0</td>\n",
              "      <td>ทรายมูล</td>\n",
              "      <td>49.935331</td>\n",
              "      <td>บ้านเดี่ยว_ทรายมูล_น้ำพอง</td>\n",
              "    </tr>\n",
              "    <tr>\n",
              "      <th>2</th>\n",
              "      <td>6</td>\n",
              "      <td>16.057538</td>\n",
              "      <td>102.726317</td>\n",
              "      <td>7000000</td>\n",
              "      <td>3</td>\n",
              "      <td>4</td>\n",
              "      <td>0.0</td>\n",
              "      <td>0.0</td>\n",
              "      <td>61.0</td>\n",
              "      <td>0.0</td>\n",
              "      <td>...</td>\n",
              "      <td>1</td>\n",
              "      <td>1</td>\n",
              "      <td>2023-05-24 15:35:04</td>\n",
              "      <td>0</td>\n",
              "      <td>219.0</td>\n",
              "      <td>3250.0</td>\n",
              "      <td>629.0</td>\n",
              "      <td>ในเมือง</td>\n",
              "      <td>51.564502</td>\n",
              "      <td>อาคารพาณิชย์/สำนักงาน_ในเมือง_บ้านไผ่</td>\n",
              "    </tr>\n",
              "    <tr>\n",
              "      <th>3</th>\n",
              "      <td>7</td>\n",
              "      <td>16.530401</td>\n",
              "      <td>102.594174</td>\n",
              "      <td>710000</td>\n",
              "      <td>0</td>\n",
              "      <td>0</td>\n",
              "      <td>3.0</td>\n",
              "      <td>2.0</td>\n",
              "      <td>9.0</td>\n",
              "      <td>0.0</td>\n",
              "      <td>...</td>\n",
              "      <td>1</td>\n",
              "      <td>1</td>\n",
              "      <td>2023-05-24 15:35:04</td>\n",
              "      <td></td>\n",
              "      <td>260.0</td>\n",
              "      <td>1129.0</td>\n",
              "      <td>1865.0</td>\n",
              "      <td>หนองบัว</td>\n",
              "      <td>50.127279</td>\n",
              "      <td>ที่ดิน_หนองบัว_บ้านฝาง</td>\n",
              "    </tr>\n",
              "    <tr>\n",
              "      <th>4</th>\n",
              "      <td>9</td>\n",
              "      <td>15.854410</td>\n",
              "      <td>102.616296</td>\n",
              "      <td>13000000</td>\n",
              "      <td>0</td>\n",
              "      <td>0</td>\n",
              "      <td>38.0</td>\n",
              "      <td>0.0</td>\n",
              "      <td>92.6</td>\n",
              "      <td>0.0</td>\n",
              "      <td>...</td>\n",
              "      <td>1</td>\n",
              "      <td>1</td>\n",
              "      <td>2023-05-24 15:35:04</td>\n",
              "      <td></td>\n",
              "      <td>77.0</td>\n",
              "      <td>271.0</td>\n",
              "      <td>1341.0</td>\n",
              "      <td>เก่างิ้ว</td>\n",
              "      <td>50.104252</td>\n",
              "      <td>ที่ดิน_เก่างิ้ว_พล</td>\n",
              "    </tr>\n",
              "  </tbody>\n",
              "</table>\n",
              "<p>5 rows × 48 columns</p>\n",
              "</div>\n",
              "      <button class=\"colab-df-convert\" onclick=\"convertToInteractive('df-285a719a-2c8f-4d56-afaf-1f4be2d18040')\"\n",
              "              title=\"Convert this dataframe to an interactive table.\"\n",
              "              style=\"display:none;\">\n",
              "\n",
              "  <svg xmlns=\"http://www.w3.org/2000/svg\" height=\"24px\"viewBox=\"0 0 24 24\"\n",
              "       width=\"24px\">\n",
              "    <path d=\"M0 0h24v24H0V0z\" fill=\"none\"/>\n",
              "    <path d=\"M18.56 5.44l.94 2.06.94-2.06 2.06-.94-2.06-.94-.94-2.06-.94 2.06-2.06.94zm-11 1L8.5 8.5l.94-2.06 2.06-.94-2.06-.94L8.5 2.5l-.94 2.06-2.06.94zm10 10l.94 2.06.94-2.06 2.06-.94-2.06-.94-.94-2.06-.94 2.06-2.06.94z\"/><path d=\"M17.41 7.96l-1.37-1.37c-.4-.4-.92-.59-1.43-.59-.52 0-1.04.2-1.43.59L10.3 9.45l-7.72 7.72c-.78.78-.78 2.05 0 2.83L4 21.41c.39.39.9.59 1.41.59.51 0 1.02-.2 1.41-.59l7.78-7.78 2.81-2.81c.8-.78.8-2.07 0-2.86zM5.41 20L4 18.59l7.72-7.72 1.47 1.35L5.41 20z\"/>\n",
              "  </svg>\n",
              "      </button>\n",
              "\n",
              "\n",
              "\n",
              "    <div id=\"df-a5d3198d-9f97-4b55-9806-90735b9df5dc\">\n",
              "      <button class=\"colab-df-quickchart\" onclick=\"quickchart('df-a5d3198d-9f97-4b55-9806-90735b9df5dc')\"\n",
              "              title=\"Suggest charts.\"\n",
              "              style=\"display:none;\">\n",
              "\n",
              "<svg xmlns=\"http://www.w3.org/2000/svg\" height=\"24px\"viewBox=\"0 0 24 24\"\n",
              "     width=\"24px\">\n",
              "    <g>\n",
              "        <path d=\"M19 3H5c-1.1 0-2 .9-2 2v14c0 1.1.9 2 2 2h14c1.1 0 2-.9 2-2V5c0-1.1-.9-2-2-2zM9 17H7v-7h2v7zm4 0h-2V7h2v10zm4 0h-2v-4h2v4z\"/>\n",
              "    </g>\n",
              "</svg>\n",
              "      </button>\n",
              "    </div>\n",
              "\n",
              "<style>\n",
              "  .colab-df-quickchart {\n",
              "    background-color: #E8F0FE;\n",
              "    border: none;\n",
              "    border-radius: 50%;\n",
              "    cursor: pointer;\n",
              "    display: none;\n",
              "    fill: #1967D2;\n",
              "    height: 32px;\n",
              "    padding: 0 0 0 0;\n",
              "    width: 32px;\n",
              "  }\n",
              "\n",
              "  .colab-df-quickchart:hover {\n",
              "    background-color: #E2EBFA;\n",
              "    box-shadow: 0px 1px 2px rgba(60, 64, 67, 0.3), 0px 1px 3px 1px rgba(60, 64, 67, 0.15);\n",
              "    fill: #174EA6;\n",
              "  }\n",
              "\n",
              "  [theme=dark] .colab-df-quickchart {\n",
              "    background-color: #3B4455;\n",
              "    fill: #D2E3FC;\n",
              "  }\n",
              "\n",
              "  [theme=dark] .colab-df-quickchart:hover {\n",
              "    background-color: #434B5C;\n",
              "    box-shadow: 0px 1px 3px 1px rgba(0, 0, 0, 0.15);\n",
              "    filter: drop-shadow(0px 1px 2px rgba(0, 0, 0, 0.3));\n",
              "    fill: #FFFFFF;\n",
              "  }\n",
              "</style>\n",
              "\n",
              "    <script>\n",
              "      async function quickchart(key) {\n",
              "        const containerElement = document.querySelector('#' + key);\n",
              "        const charts = await google.colab.kernel.invokeFunction(\n",
              "            'suggestCharts', [key], {});\n",
              "      }\n",
              "    </script>\n",
              "\n",
              "      <script>\n",
              "\n",
              "function displayQuickchartButton(domScope) {\n",
              "  let quickchartButtonEl =\n",
              "    domScope.querySelector('#df-a5d3198d-9f97-4b55-9806-90735b9df5dc button.colab-df-quickchart');\n",
              "  quickchartButtonEl.style.display =\n",
              "    google.colab.kernel.accessAllowed ? 'block' : 'none';\n",
              "}\n",
              "\n",
              "        displayQuickchartButton(document);\n",
              "      </script>\n",
              "      <style>\n",
              "    .colab-df-container {\n",
              "      display:flex;\n",
              "      flex-wrap:wrap;\n",
              "      gap: 12px;\n",
              "    }\n",
              "\n",
              "    .colab-df-convert {\n",
              "      background-color: #E8F0FE;\n",
              "      border: none;\n",
              "      border-radius: 50%;\n",
              "      cursor: pointer;\n",
              "      display: none;\n",
              "      fill: #1967D2;\n",
              "      height: 32px;\n",
              "      padding: 0 0 0 0;\n",
              "      width: 32px;\n",
              "    }\n",
              "\n",
              "    .colab-df-convert:hover {\n",
              "      background-color: #E2EBFA;\n",
              "      box-shadow: 0px 1px 2px rgba(60, 64, 67, 0.3), 0px 1px 3px 1px rgba(60, 64, 67, 0.15);\n",
              "      fill: #174EA6;\n",
              "    }\n",
              "\n",
              "    [theme=dark] .colab-df-convert {\n",
              "      background-color: #3B4455;\n",
              "      fill: #D2E3FC;\n",
              "    }\n",
              "\n",
              "    [theme=dark] .colab-df-convert:hover {\n",
              "      background-color: #434B5C;\n",
              "      box-shadow: 0px 1px 3px 1px rgba(0, 0, 0, 0.15);\n",
              "      filter: drop-shadow(0px 1px 2px rgba(0, 0, 0, 0.3));\n",
              "      fill: #FFFFFF;\n",
              "    }\n",
              "  </style>\n",
              "\n",
              "      <script>\n",
              "        const buttonEl =\n",
              "          document.querySelector('#df-285a719a-2c8f-4d56-afaf-1f4be2d18040 button.colab-df-convert');\n",
              "        buttonEl.style.display =\n",
              "          google.colab.kernel.accessAllowed ? 'block' : 'none';\n",
              "\n",
              "        async function convertToInteractive(key) {\n",
              "          const element = document.querySelector('#df-285a719a-2c8f-4d56-afaf-1f4be2d18040');\n",
              "          const dataTable =\n",
              "            await google.colab.kernel.invokeFunction('convertToInteractive',\n",
              "                                                     [key], {});\n",
              "          if (!dataTable) return;\n",
              "\n",
              "          const docLinkHtml = 'Like what you see? Visit the ' +\n",
              "            '<a target=\"_blank\" href=https://colab.research.google.com/notebooks/data_table.ipynb>data table notebook</a>'\n",
              "            + ' to learn more about interactive tables.';\n",
              "          element.innerHTML = '';\n",
              "          dataTable['output_type'] = 'display_data';\n",
              "          await google.colab.output.renderOutput(dataTable, element);\n",
              "          const docLink = document.createElement('div');\n",
              "          docLink.innerHTML = docLinkHtml;\n",
              "          element.appendChild(docLink);\n",
              "        }\n",
              "      </script>\n",
              "    </div>\n",
              "  </div>\n"
            ]
          },
          "metadata": {},
          "execution_count": 21
        }
      ]
    },
    {
      "cell_type": "code",
      "source": [
        "ai_df.columns"
      ],
      "metadata": {
        "colab": {
          "base_uri": "https://localhost:8080/"
        },
        "id": "fHew0Qg9ynr9",
        "outputId": "65be825a-138f-4217-9a6f-cbbdd252eeed"
      },
      "execution_count": 22,
      "outputs": [
        {
          "output_type": "execute_result",
          "data": {
            "text/plain": [
              "Index(['id', 'latitude', 'longitude', 'sell_price', 'number_of_bedroom',\n",
              "       'number_of_bathroom', 'number_of_rai', 'number_of_ngan', 'number_of_va',\n",
              "       'renovate', 'project_name', 'property_type', 'zone', 'usable_area',\n",
              "       'ai_price', 'ai_score', 'number_of_parking', 'furniture', 'direction',\n",
              "       'district', 'floor_number', 'number_of_story', 'email', 'name_th',\n",
              "       'contact_name', 'updated_at', 'mobile1', 'created_at', 'province',\n",
              "       'web_path', 'status', 'listing_type', 'motorway', 'trunk', 'primary',\n",
              "       'secondary', 'tertiary', 'residential', 'fortrain', 'forviz',\n",
              "       'time_stamps', 'central_cost', 'user_click', 'sub_dis_click',\n",
              "       'prop_click', 'sub_district', 'demand_score', 'combined_index'],\n",
              "      dtype='object')"
            ]
          },
          "metadata": {},
          "execution_count": 22
        }
      ]
    },
    {
      "cell_type": "code",
      "source": [
        "ai_embed = ai_df[['latitude', 'longitude', 'sell_price', 'number_of_bedroom',\n",
        "       'number_of_bathroom', 'number_of_rai', 'number_of_ngan', 'number_of_va',\n",
        "       'renovate', 'property_type', 'zone', 'usable_area','number_of_parking',\n",
        "       'district', 'sub_district', 'floor_number', 'number_of_story', 'motorway', 'trunk', 'primary',\n",
        "       'secondary', 'tertiary', 'residential']]"
      ],
      "metadata": {
        "id": "eMZ9iKdpywZo"
      },
      "execution_count": 23,
      "outputs": []
    },
    {
      "cell_type": "markdown",
      "source": [
        "# Build Embedding"
      ],
      "metadata": {
        "id": "KYE66S2qzXyW"
      }
    },
    {
      "cell_type": "code",
      "source": [
        "from sklearn import preprocessing"
      ],
      "metadata": {
        "id": "v2Gb-c_yDLob"
      },
      "execution_count": 24,
      "outputs": []
    },
    {
      "cell_type": "code",
      "source": [
        "import numpy as np"
      ],
      "metadata": {
        "id": "IG43RubaJ5gz"
      },
      "execution_count": 31,
      "outputs": []
    },
    {
      "cell_type": "markdown",
      "source": [
        "## one-hot"
      ],
      "metadata": {
        "id": "q-vmSTR_CPe4"
      }
    },
    {
      "cell_type": "code",
      "source": [
        "embed = pd.get_dummies(ai_embed,columns=['property_type','zone','district','sub_district'])"
      ],
      "metadata": {
        "id": "LEwH5YunuZkr"
      },
      "execution_count": 33,
      "outputs": []
    },
    {
      "cell_type": "code",
      "source": [
        "embed"
      ],
      "metadata": {
        "colab": {
          "base_uri": "https://localhost:8080/",
          "height": 508
        },
        "id": "DznBq0TBCoG7",
        "outputId": "62eb78d3-d754-4640-c9dc-13ce09b27d91"
      },
      "execution_count": 34,
      "outputs": [
        {
          "output_type": "execute_result",
          "data": {
            "text/plain": [
              "       latitude   longitude  sell_price  number_of_bedroom  \\\n",
              "0     16.139321  102.631587      390000                  2   \n",
              "1     16.676156  102.917998      820000                  1   \n",
              "2     16.057538  102.726317     7000000                  3   \n",
              "3     16.530401  102.594174      710000                  0   \n",
              "4     15.854410  102.616296    13000000                  0   \n",
              "...         ...         ...         ...                ...   \n",
              "7563  16.434660  102.808615     4200000                  3   \n",
              "7564  16.416775  102.818807     8000000                  4   \n",
              "7565  16.396894  102.857463      900000                  0   \n",
              "7566  16.669156  102.782942      200000                  0   \n",
              "7567  16.437836  102.784571    11000000                  0   \n",
              "\n",
              "      number_of_bathroom  number_of_rai  number_of_ngan  number_of_va  \\\n",
              "0                      2            0.0             1.0          45.0   \n",
              "1                      1            0.0             0.0          88.0   \n",
              "2                      4            0.0             0.0          61.0   \n",
              "3                      0            3.0             2.0           9.0   \n",
              "4                      0           38.0             0.0          92.6   \n",
              "...                  ...            ...             ...           ...   \n",
              "7563                   2            0.0             0.0          58.7   \n",
              "7564                   3            1.0             1.0           1.0   \n",
              "7565                   0            0.0             0.0          90.0   \n",
              "7566                   0           10.0             0.0           0.0   \n",
              "7567                   0            0.0             0.0         101.0   \n",
              "\n",
              "      renovate  usable_area  ...  sub_district_โนนหินแห่  \\\n",
              "0          0.0        244.0  ...                       0   \n",
              "1          0.0        164.0  ...                       0   \n",
              "2          0.0        344.0  ...                       0   \n",
              "3          0.0          0.0  ...                       0   \n",
              "4          0.0          0.0  ...                       0   \n",
              "...        ...          ...  ...                     ...   \n",
              "7563       0.5          0.0  ...                       0   \n",
              "7564       0.5        200.0  ...                       0   \n",
              "7565       0.5          0.0  ...                       0   \n",
              "7566       0.5          0.0  ...                       0   \n",
              "7567       0.5          0.0  ...                       0   \n",
              "\n",
              "      sub_district_โนนอุดม  sub_district_โนนแดง  sub_district_โพธิ์ชัย  \\\n",
              "0                        0                    0                      0   \n",
              "1                        0                    0                      0   \n",
              "2                        0                    0                      0   \n",
              "3                        0                    0                      0   \n",
              "4                        0                    0                      0   \n",
              "...                    ...                  ...                    ...   \n",
              "7563                     0                    0                      0   \n",
              "7564                     0                    0                      0   \n",
              "7565                     0                    0                      0   \n",
              "7566                     0                    0                      0   \n",
              "7567                     0                    0                      0   \n",
              "\n",
              "      sub_district_โพธิ์ไชย  sub_district_โพนเพ็ก  sub_district_โสกนกเต็น  \\\n",
              "0                         0                     0                       0   \n",
              "1                         0                     0                       0   \n",
              "2                         0                     0                       0   \n",
              "3                         0                     0                       0   \n",
              "4                         0                     0                       0   \n",
              "...                     ...                   ...                     ...   \n",
              "7563                      0                     0                       0   \n",
              "7564                      0                     0                       0   \n",
              "7565                      0                     0                       0   \n",
              "7566                      0                     0                       0   \n",
              "7567                      0                     0                       0   \n",
              "\n",
              "      sub_district_ในเมือง  sub_district_ใหม่นาเพียง  sub_district_ไชยสอ  \n",
              "0                        0                         0                   0  \n",
              "1                        0                         0                   0  \n",
              "2                        1                         0                   0  \n",
              "3                        0                         0                   0  \n",
              "4                        0                         0                   0  \n",
              "...                    ...                       ...                 ...  \n",
              "7563                     0                         0                   0  \n",
              "7564                     0                         0                   0  \n",
              "7565                     0                         0                   0  \n",
              "7566                     0                         0                   0  \n",
              "7567                     0                         0                   0  \n",
              "\n",
              "[7568 rows x 299 columns]"
            ],
            "text/html": [
              "\n",
              "\n",
              "  <div id=\"df-1a668ce6-cf97-4064-9a4e-7e04cf2b8e23\">\n",
              "    <div class=\"colab-df-container\">\n",
              "      <div>\n",
              "<style scoped>\n",
              "    .dataframe tbody tr th:only-of-type {\n",
              "        vertical-align: middle;\n",
              "    }\n",
              "\n",
              "    .dataframe tbody tr th {\n",
              "        vertical-align: top;\n",
              "    }\n",
              "\n",
              "    .dataframe thead th {\n",
              "        text-align: right;\n",
              "    }\n",
              "</style>\n",
              "<table border=\"1\" class=\"dataframe\">\n",
              "  <thead>\n",
              "    <tr style=\"text-align: right;\">\n",
              "      <th></th>\n",
              "      <th>latitude</th>\n",
              "      <th>longitude</th>\n",
              "      <th>sell_price</th>\n",
              "      <th>number_of_bedroom</th>\n",
              "      <th>number_of_bathroom</th>\n",
              "      <th>number_of_rai</th>\n",
              "      <th>number_of_ngan</th>\n",
              "      <th>number_of_va</th>\n",
              "      <th>renovate</th>\n",
              "      <th>usable_area</th>\n",
              "      <th>...</th>\n",
              "      <th>sub_district_โนนหินแห่</th>\n",
              "      <th>sub_district_โนนอุดม</th>\n",
              "      <th>sub_district_โนนแดง</th>\n",
              "      <th>sub_district_โพธิ์ชัย</th>\n",
              "      <th>sub_district_โพธิ์ไชย</th>\n",
              "      <th>sub_district_โพนเพ็ก</th>\n",
              "      <th>sub_district_โสกนกเต็น</th>\n",
              "      <th>sub_district_ในเมือง</th>\n",
              "      <th>sub_district_ใหม่นาเพียง</th>\n",
              "      <th>sub_district_ไชยสอ</th>\n",
              "    </tr>\n",
              "  </thead>\n",
              "  <tbody>\n",
              "    <tr>\n",
              "      <th>0</th>\n",
              "      <td>16.139321</td>\n",
              "      <td>102.631587</td>\n",
              "      <td>390000</td>\n",
              "      <td>2</td>\n",
              "      <td>2</td>\n",
              "      <td>0.0</td>\n",
              "      <td>1.0</td>\n",
              "      <td>45.0</td>\n",
              "      <td>0.0</td>\n",
              "      <td>244.0</td>\n",
              "      <td>...</td>\n",
              "      <td>0</td>\n",
              "      <td>0</td>\n",
              "      <td>0</td>\n",
              "      <td>0</td>\n",
              "      <td>0</td>\n",
              "      <td>0</td>\n",
              "      <td>0</td>\n",
              "      <td>0</td>\n",
              "      <td>0</td>\n",
              "      <td>0</td>\n",
              "    </tr>\n",
              "    <tr>\n",
              "      <th>1</th>\n",
              "      <td>16.676156</td>\n",
              "      <td>102.917998</td>\n",
              "      <td>820000</td>\n",
              "      <td>1</td>\n",
              "      <td>1</td>\n",
              "      <td>0.0</td>\n",
              "      <td>0.0</td>\n",
              "      <td>88.0</td>\n",
              "      <td>0.0</td>\n",
              "      <td>164.0</td>\n",
              "      <td>...</td>\n",
              "      <td>0</td>\n",
              "      <td>0</td>\n",
              "      <td>0</td>\n",
              "      <td>0</td>\n",
              "      <td>0</td>\n",
              "      <td>0</td>\n",
              "      <td>0</td>\n",
              "      <td>0</td>\n",
              "      <td>0</td>\n",
              "      <td>0</td>\n",
              "    </tr>\n",
              "    <tr>\n",
              "      <th>2</th>\n",
              "      <td>16.057538</td>\n",
              "      <td>102.726317</td>\n",
              "      <td>7000000</td>\n",
              "      <td>3</td>\n",
              "      <td>4</td>\n",
              "      <td>0.0</td>\n",
              "      <td>0.0</td>\n",
              "      <td>61.0</td>\n",
              "      <td>0.0</td>\n",
              "      <td>344.0</td>\n",
              "      <td>...</td>\n",
              "      <td>0</td>\n",
              "      <td>0</td>\n",
              "      <td>0</td>\n",
              "      <td>0</td>\n",
              "      <td>0</td>\n",
              "      <td>0</td>\n",
              "      <td>0</td>\n",
              "      <td>1</td>\n",
              "      <td>0</td>\n",
              "      <td>0</td>\n",
              "    </tr>\n",
              "    <tr>\n",
              "      <th>3</th>\n",
              "      <td>16.530401</td>\n",
              "      <td>102.594174</td>\n",
              "      <td>710000</td>\n",
              "      <td>0</td>\n",
              "      <td>0</td>\n",
              "      <td>3.0</td>\n",
              "      <td>2.0</td>\n",
              "      <td>9.0</td>\n",
              "      <td>0.0</td>\n",
              "      <td>0.0</td>\n",
              "      <td>...</td>\n",
              "      <td>0</td>\n",
              "      <td>0</td>\n",
              "      <td>0</td>\n",
              "      <td>0</td>\n",
              "      <td>0</td>\n",
              "      <td>0</td>\n",
              "      <td>0</td>\n",
              "      <td>0</td>\n",
              "      <td>0</td>\n",
              "      <td>0</td>\n",
              "    </tr>\n",
              "    <tr>\n",
              "      <th>4</th>\n",
              "      <td>15.854410</td>\n",
              "      <td>102.616296</td>\n",
              "      <td>13000000</td>\n",
              "      <td>0</td>\n",
              "      <td>0</td>\n",
              "      <td>38.0</td>\n",
              "      <td>0.0</td>\n",
              "      <td>92.6</td>\n",
              "      <td>0.0</td>\n",
              "      <td>0.0</td>\n",
              "      <td>...</td>\n",
              "      <td>0</td>\n",
              "      <td>0</td>\n",
              "      <td>0</td>\n",
              "      <td>0</td>\n",
              "      <td>0</td>\n",
              "      <td>0</td>\n",
              "      <td>0</td>\n",
              "      <td>0</td>\n",
              "      <td>0</td>\n",
              "      <td>0</td>\n",
              "    </tr>\n",
              "    <tr>\n",
              "      <th>...</th>\n",
              "      <td>...</td>\n",
              "      <td>...</td>\n",
              "      <td>...</td>\n",
              "      <td>...</td>\n",
              "      <td>...</td>\n",
              "      <td>...</td>\n",
              "      <td>...</td>\n",
              "      <td>...</td>\n",
              "      <td>...</td>\n",
              "      <td>...</td>\n",
              "      <td>...</td>\n",
              "      <td>...</td>\n",
              "      <td>...</td>\n",
              "      <td>...</td>\n",
              "      <td>...</td>\n",
              "      <td>...</td>\n",
              "      <td>...</td>\n",
              "      <td>...</td>\n",
              "      <td>...</td>\n",
              "      <td>...</td>\n",
              "      <td>...</td>\n",
              "    </tr>\n",
              "    <tr>\n",
              "      <th>7563</th>\n",
              "      <td>16.434660</td>\n",
              "      <td>102.808615</td>\n",
              "      <td>4200000</td>\n",
              "      <td>3</td>\n",
              "      <td>2</td>\n",
              "      <td>0.0</td>\n",
              "      <td>0.0</td>\n",
              "      <td>58.7</td>\n",
              "      <td>0.5</td>\n",
              "      <td>0.0</td>\n",
              "      <td>...</td>\n",
              "      <td>0</td>\n",
              "      <td>0</td>\n",
              "      <td>0</td>\n",
              "      <td>0</td>\n",
              "      <td>0</td>\n",
              "      <td>0</td>\n",
              "      <td>0</td>\n",
              "      <td>0</td>\n",
              "      <td>0</td>\n",
              "      <td>0</td>\n",
              "    </tr>\n",
              "    <tr>\n",
              "      <th>7564</th>\n",
              "      <td>16.416775</td>\n",
              "      <td>102.818807</td>\n",
              "      <td>8000000</td>\n",
              "      <td>4</td>\n",
              "      <td>3</td>\n",
              "      <td>1.0</td>\n",
              "      <td>1.0</td>\n",
              "      <td>1.0</td>\n",
              "      <td>0.5</td>\n",
              "      <td>200.0</td>\n",
              "      <td>...</td>\n",
              "      <td>0</td>\n",
              "      <td>0</td>\n",
              "      <td>0</td>\n",
              "      <td>0</td>\n",
              "      <td>0</td>\n",
              "      <td>0</td>\n",
              "      <td>0</td>\n",
              "      <td>0</td>\n",
              "      <td>0</td>\n",
              "      <td>0</td>\n",
              "    </tr>\n",
              "    <tr>\n",
              "      <th>7565</th>\n",
              "      <td>16.396894</td>\n",
              "      <td>102.857463</td>\n",
              "      <td>900000</td>\n",
              "      <td>0</td>\n",
              "      <td>0</td>\n",
              "      <td>0.0</td>\n",
              "      <td>0.0</td>\n",
              "      <td>90.0</td>\n",
              "      <td>0.5</td>\n",
              "      <td>0.0</td>\n",
              "      <td>...</td>\n",
              "      <td>0</td>\n",
              "      <td>0</td>\n",
              "      <td>0</td>\n",
              "      <td>0</td>\n",
              "      <td>0</td>\n",
              "      <td>0</td>\n",
              "      <td>0</td>\n",
              "      <td>0</td>\n",
              "      <td>0</td>\n",
              "      <td>0</td>\n",
              "    </tr>\n",
              "    <tr>\n",
              "      <th>7566</th>\n",
              "      <td>16.669156</td>\n",
              "      <td>102.782942</td>\n",
              "      <td>200000</td>\n",
              "      <td>0</td>\n",
              "      <td>0</td>\n",
              "      <td>10.0</td>\n",
              "      <td>0.0</td>\n",
              "      <td>0.0</td>\n",
              "      <td>0.5</td>\n",
              "      <td>0.0</td>\n",
              "      <td>...</td>\n",
              "      <td>0</td>\n",
              "      <td>0</td>\n",
              "      <td>0</td>\n",
              "      <td>0</td>\n",
              "      <td>0</td>\n",
              "      <td>0</td>\n",
              "      <td>0</td>\n",
              "      <td>0</td>\n",
              "      <td>0</td>\n",
              "      <td>0</td>\n",
              "    </tr>\n",
              "    <tr>\n",
              "      <th>7567</th>\n",
              "      <td>16.437836</td>\n",
              "      <td>102.784571</td>\n",
              "      <td>11000000</td>\n",
              "      <td>0</td>\n",
              "      <td>0</td>\n",
              "      <td>0.0</td>\n",
              "      <td>0.0</td>\n",
              "      <td>101.0</td>\n",
              "      <td>0.5</td>\n",
              "      <td>0.0</td>\n",
              "      <td>...</td>\n",
              "      <td>0</td>\n",
              "      <td>0</td>\n",
              "      <td>0</td>\n",
              "      <td>0</td>\n",
              "      <td>0</td>\n",
              "      <td>0</td>\n",
              "      <td>0</td>\n",
              "      <td>0</td>\n",
              "      <td>0</td>\n",
              "      <td>0</td>\n",
              "    </tr>\n",
              "  </tbody>\n",
              "</table>\n",
              "<p>7568 rows × 299 columns</p>\n",
              "</div>\n",
              "      <button class=\"colab-df-convert\" onclick=\"convertToInteractive('df-1a668ce6-cf97-4064-9a4e-7e04cf2b8e23')\"\n",
              "              title=\"Convert this dataframe to an interactive table.\"\n",
              "              style=\"display:none;\">\n",
              "\n",
              "  <svg xmlns=\"http://www.w3.org/2000/svg\" height=\"24px\"viewBox=\"0 0 24 24\"\n",
              "       width=\"24px\">\n",
              "    <path d=\"M0 0h24v24H0V0z\" fill=\"none\"/>\n",
              "    <path d=\"M18.56 5.44l.94 2.06.94-2.06 2.06-.94-2.06-.94-.94-2.06-.94 2.06-2.06.94zm-11 1L8.5 8.5l.94-2.06 2.06-.94-2.06-.94L8.5 2.5l-.94 2.06-2.06.94zm10 10l.94 2.06.94-2.06 2.06-.94-2.06-.94-.94-2.06-.94 2.06-2.06.94z\"/><path d=\"M17.41 7.96l-1.37-1.37c-.4-.4-.92-.59-1.43-.59-.52 0-1.04.2-1.43.59L10.3 9.45l-7.72 7.72c-.78.78-.78 2.05 0 2.83L4 21.41c.39.39.9.59 1.41.59.51 0 1.02-.2 1.41-.59l7.78-7.78 2.81-2.81c.8-.78.8-2.07 0-2.86zM5.41 20L4 18.59l7.72-7.72 1.47 1.35L5.41 20z\"/>\n",
              "  </svg>\n",
              "      </button>\n",
              "\n",
              "\n",
              "\n",
              "    <div id=\"df-d78973c2-1b71-430e-a623-52bcb55b3b36\">\n",
              "      <button class=\"colab-df-quickchart\" onclick=\"quickchart('df-d78973c2-1b71-430e-a623-52bcb55b3b36')\"\n",
              "              title=\"Suggest charts.\"\n",
              "              style=\"display:none;\">\n",
              "\n",
              "<svg xmlns=\"http://www.w3.org/2000/svg\" height=\"24px\"viewBox=\"0 0 24 24\"\n",
              "     width=\"24px\">\n",
              "    <g>\n",
              "        <path d=\"M19 3H5c-1.1 0-2 .9-2 2v14c0 1.1.9 2 2 2h14c1.1 0 2-.9 2-2V5c0-1.1-.9-2-2-2zM9 17H7v-7h2v7zm4 0h-2V7h2v10zm4 0h-2v-4h2v4z\"/>\n",
              "    </g>\n",
              "</svg>\n",
              "      </button>\n",
              "    </div>\n",
              "\n",
              "<style>\n",
              "  .colab-df-quickchart {\n",
              "    background-color: #E8F0FE;\n",
              "    border: none;\n",
              "    border-radius: 50%;\n",
              "    cursor: pointer;\n",
              "    display: none;\n",
              "    fill: #1967D2;\n",
              "    height: 32px;\n",
              "    padding: 0 0 0 0;\n",
              "    width: 32px;\n",
              "  }\n",
              "\n",
              "  .colab-df-quickchart:hover {\n",
              "    background-color: #E2EBFA;\n",
              "    box-shadow: 0px 1px 2px rgba(60, 64, 67, 0.3), 0px 1px 3px 1px rgba(60, 64, 67, 0.15);\n",
              "    fill: #174EA6;\n",
              "  }\n",
              "\n",
              "  [theme=dark] .colab-df-quickchart {\n",
              "    background-color: #3B4455;\n",
              "    fill: #D2E3FC;\n",
              "  }\n",
              "\n",
              "  [theme=dark] .colab-df-quickchart:hover {\n",
              "    background-color: #434B5C;\n",
              "    box-shadow: 0px 1px 3px 1px rgba(0, 0, 0, 0.15);\n",
              "    filter: drop-shadow(0px 1px 2px rgba(0, 0, 0, 0.3));\n",
              "    fill: #FFFFFF;\n",
              "  }\n",
              "</style>\n",
              "\n",
              "    <script>\n",
              "      async function quickchart(key) {\n",
              "        const containerElement = document.querySelector('#' + key);\n",
              "        const charts = await google.colab.kernel.invokeFunction(\n",
              "            'suggestCharts', [key], {});\n",
              "      }\n",
              "    </script>\n",
              "\n",
              "      <script>\n",
              "\n",
              "function displayQuickchartButton(domScope) {\n",
              "  let quickchartButtonEl =\n",
              "    domScope.querySelector('#df-d78973c2-1b71-430e-a623-52bcb55b3b36 button.colab-df-quickchart');\n",
              "  quickchartButtonEl.style.display =\n",
              "    google.colab.kernel.accessAllowed ? 'block' : 'none';\n",
              "}\n",
              "\n",
              "        displayQuickchartButton(document);\n",
              "      </script>\n",
              "      <style>\n",
              "    .colab-df-container {\n",
              "      display:flex;\n",
              "      flex-wrap:wrap;\n",
              "      gap: 12px;\n",
              "    }\n",
              "\n",
              "    .colab-df-convert {\n",
              "      background-color: #E8F0FE;\n",
              "      border: none;\n",
              "      border-radius: 50%;\n",
              "      cursor: pointer;\n",
              "      display: none;\n",
              "      fill: #1967D2;\n",
              "      height: 32px;\n",
              "      padding: 0 0 0 0;\n",
              "      width: 32px;\n",
              "    }\n",
              "\n",
              "    .colab-df-convert:hover {\n",
              "      background-color: #E2EBFA;\n",
              "      box-shadow: 0px 1px 2px rgba(60, 64, 67, 0.3), 0px 1px 3px 1px rgba(60, 64, 67, 0.15);\n",
              "      fill: #174EA6;\n",
              "    }\n",
              "\n",
              "    [theme=dark] .colab-df-convert {\n",
              "      background-color: #3B4455;\n",
              "      fill: #D2E3FC;\n",
              "    }\n",
              "\n",
              "    [theme=dark] .colab-df-convert:hover {\n",
              "      background-color: #434B5C;\n",
              "      box-shadow: 0px 1px 3px 1px rgba(0, 0, 0, 0.15);\n",
              "      filter: drop-shadow(0px 1px 2px rgba(0, 0, 0, 0.3));\n",
              "      fill: #FFFFFF;\n",
              "    }\n",
              "  </style>\n",
              "\n",
              "      <script>\n",
              "        const buttonEl =\n",
              "          document.querySelector('#df-1a668ce6-cf97-4064-9a4e-7e04cf2b8e23 button.colab-df-convert');\n",
              "        buttonEl.style.display =\n",
              "          google.colab.kernel.accessAllowed ? 'block' : 'none';\n",
              "\n",
              "        async function convertToInteractive(key) {\n",
              "          const element = document.querySelector('#df-1a668ce6-cf97-4064-9a4e-7e04cf2b8e23');\n",
              "          const dataTable =\n",
              "            await google.colab.kernel.invokeFunction('convertToInteractive',\n",
              "                                                     [key], {});\n",
              "          if (!dataTable) return;\n",
              "\n",
              "          const docLinkHtml = 'Like what you see? Visit the ' +\n",
              "            '<a target=\"_blank\" href=https://colab.research.google.com/notebooks/data_table.ipynb>data table notebook</a>'\n",
              "            + ' to learn more about interactive tables.';\n",
              "          element.innerHTML = '';\n",
              "          dataTable['output_type'] = 'display_data';\n",
              "          await google.colab.output.renderOutput(dataTable, element);\n",
              "          const docLink = document.createElement('div');\n",
              "          docLink.innerHTML = docLinkHtml;\n",
              "          element.appendChild(docLink);\n",
              "        }\n",
              "      </script>\n",
              "    </div>\n",
              "  </div>\n"
            ]
          },
          "metadata": {},
          "execution_count": 34
        }
      ]
    },
    {
      "cell_type": "code",
      "source": [
        "embed = embed.fillna(0)"
      ],
      "metadata": {
        "id": "Mn_4DxN4KGM3"
      },
      "execution_count": 35,
      "outputs": []
    },
    {
      "cell_type": "markdown",
      "source": [
        "## normalized"
      ],
      "metadata": {
        "id": "HL4b6qziDR4-"
      }
    },
    {
      "cell_type": "code",
      "source": [
        "min_max_scaler = preprocessing.MinMaxScaler()\n",
        "embed_scaled = min_max_scaler.fit_transform(embed.values)"
      ],
      "metadata": {
        "id": "NZYNPFN1Cta-"
      },
      "execution_count": 36,
      "outputs": []
    },
    {
      "cell_type": "code",
      "source": [
        "embed_scaled.shape"
      ],
      "metadata": {
        "colab": {
          "base_uri": "https://localhost:8080/"
        },
        "id": "sa2OuvXQEca-",
        "outputId": "c467c969-3300-4d17-c291-2e431a4d7e9e"
      },
      "execution_count": 37,
      "outputs": [
        {
          "output_type": "execute_result",
          "data": {
            "text/plain": [
              "(7568, 299)"
            ]
          },
          "metadata": {},
          "execution_count": 37
        }
      ]
    },
    {
      "cell_type": "code",
      "source": [
        "np.argwhere(np.isnan(embed_scaled))"
      ],
      "metadata": {
        "colab": {
          "base_uri": "https://localhost:8080/"
        },
        "id": "qoJvTtRLJ3hK",
        "outputId": "ab07e1e1-7f3d-4801-bfc9-03fe4093c9c5"
      },
      "execution_count": 38,
      "outputs": [
        {
          "output_type": "execute_result",
          "data": {
            "text/plain": [
              "array([], shape=(0, 2), dtype=int64)"
            ]
          },
          "metadata": {},
          "execution_count": 38
        }
      ]
    },
    {
      "cell_type": "markdown",
      "source": [
        "## start DB"
      ],
      "metadata": {
        "id": "wtp0ScSnGWFM"
      }
    },
    {
      "cell_type": "code",
      "source": [
        "# Start your milvus server\n",
        "default_server.start()\n",
        "\n",
        "# Now you could connect with localhost and the given port\n",
        "# Port is defined by default_server.listen_port\n",
        "connections.connect(host='127.0.0.1', port=default_server.listen_port)\n",
        "\n",
        "# Check if the server is ready.\n",
        "print(utility.get_server_version())\n",
        "\n",
        "fields = [\n",
        "    FieldSchema(name=\"pk\", dtype=DataType.INT64, is_primary=True, auto_id=False),\n",
        "    FieldSchema(name=\"data\", dtype=DataType.VARCHAR,max_length=512,),\n",
        "    FieldSchema(name=\"embeddings\", dtype=DataType.FLOAT_VECTOR, dim=embed_scaled.shape[1])\n",
        "]\n",
        "schema = CollectionSchema(fields, \"nayoo VDB\")\n",
        "hello_milvus = Collection(\"nayooVDB\", schema)"
      ],
      "metadata": {
        "colab": {
          "base_uri": "https://localhost:8080/"
        },
        "id": "vogHbjmhFnh-",
        "outputId": "a5852a74-2e6e-4392-ab0d-ca006ed19e9b"
      },
      "execution_count": 15,
      "outputs": [
        {
          "output_type": "stream",
          "name": "stderr",
          "text": [
            "WARNING:pymilvus.decorators:\u001b[93m[__internal_register] retry:4, cost: 0.27s, reason: <_InactiveRpcError: StatusCode.UNAVAILABLE, internal: Milvus Proxy is not ready yet. please wait>\u001b[0m\n"
          ]
        },
        {
          "output_type": "stream",
          "name": "stdout",
          "text": [
            "\n",
            "\n",
            "    __  _________ _   ____  ______\n",
            "   /  |/  /  _/ /| | / / / / / __/\n",
            "  / /|_/ // // /_| |/ / /_/ /\\ \\\n",
            " /_/  /_/___/____/___/\\____/___/ {Lite}\n",
            "\n",
            " Welcome to use Milvus!\n",
            "\n",
            " Version:   v2.2.11-lite\n",
            " Process:   26840\n",
            " Started:   2023-07-25 03:42:21\n",
            " Config:    /root/.milvus.io/milvus-server/2.2.11/configs/milvus.yaml\n",
            " Logs:      /root/.milvus.io/milvus-server/2.2.11/logs\n",
            "\n",
            " Ctrl+C to exit ...\n"
          ]
        },
        {
          "output_type": "stream",
          "name": "stderr",
          "text": [
            "WARNING:pymilvus.decorators:\u001b[93m[__internal_register] retry:5, cost: 0.81s, reason: <_InactiveRpcError: StatusCode.UNAVAILABLE, internal: Milvus Proxy is not ready yet. please wait>\u001b[0m\n",
            "WARNING:pymilvus.decorators:\u001b[93m[__internal_register] retry:6, cost: 2.43s, reason: <_InactiveRpcError: StatusCode.UNAVAILABLE, internal: Milvus Proxy is not ready yet. please wait>\u001b[0m\n"
          ]
        },
        {
          "output_type": "stream",
          "name": "stdout",
          "text": [
            "v2.2.11-lite\n"
          ]
        }
      ]
    },
    {
      "cell_type": "markdown",
      "source": [
        "## insert data"
      ],
      "metadata": {
        "id": "vobwm3pZGY8h"
      }
    },
    {
      "cell_type": "code",
      "source": [
        "entities = [\n",
        "    [i for i in range(ai_df.shape[0])],  # field pk\n",
        "    ai_df['id'].values,  # field pk\n",
        "    embed_scaled,  # field embeddings\n",
        "]\n",
        "\n",
        "\n",
        "insert_result = hello_milvus.insert(entities)\n",
        "# After final entity is inserted, it is best to call flush to have no growing segments left in memory\n",
        "hello_milvus.flush()"
      ],
      "metadata": {
        "id": "6KFbEXqCGRLd"
      },
      "execution_count": 39,
      "outputs": []
    },
    {
      "cell_type": "markdown",
      "source": [
        "## indexing"
      ],
      "metadata": {
        "id": "iw8Uwiw6KWMW"
      }
    },
    {
      "cell_type": "code",
      "source": [
        "index = {\n",
        "    \"index_type\": \"IVF_FLAT\",\n",
        "    \"metric_type\": \"L2\",\n",
        "    \"params\": {\"nlist\": 128},\n",
        "}\n",
        "hello_milvus.create_index(\"embeddings\", index)"
      ],
      "metadata": {
        "colab": {
          "base_uri": "https://localhost:8080/"
        },
        "id": "MGm-hOBgJXDQ",
        "outputId": "c107ff4d-1c6c-400b-be02-b7fbec4c39fd"
      },
      "execution_count": 40,
      "outputs": [
        {
          "output_type": "stream",
          "name": "stderr",
          "text": [
            "WARNING:pymilvus.decorators:alloc_timestamp unimplemented, ignore it\n"
          ]
        },
        {
          "output_type": "execute_result",
          "data": {
            "text/plain": [
              "Status(code=0, message=)"
            ]
          },
          "metadata": {},
          "execution_count": 40
        }
      ]
    },
    {
      "cell_type": "markdown",
      "source": [
        "## search"
      ],
      "metadata": {
        "id": "HctQ6czrKixx"
      }
    },
    {
      "cell_type": "code",
      "source": [
        "vectors_to_search = embed_scaled[10,:]"
      ],
      "metadata": {
        "id": "kBZawBtgK75p"
      },
      "execution_count": 43,
      "outputs": []
    },
    {
      "cell_type": "code",
      "source": [
        "vectors_to_search"
      ],
      "metadata": {
        "colab": {
          "base_uri": "https://localhost:8080/"
        },
        "id": "VxxQXgIkK8eg",
        "outputId": "c787d5cc-08e7-42ad-9a64-c2a6d19cce36"
      },
      "execution_count": 44,
      "outputs": [
        {
          "output_type": "execute_result",
          "data": {
            "text/plain": [
              "array([9.86806738e-06, 1.00645217e-05, 2.00000000e-05, 1.17647059e-02,\n",
              "       1.17647059e-02, 0.00000000e+00, 0.00000000e+00, 3.19417476e-02,\n",
              "       0.00000000e+00, 7.24788430e-05, 3.47222222e-03, 0.00000000e+00,\n",
              "       4.44444444e-02, 0.00000000e+00, 0.00000000e+00, 0.00000000e+00,\n",
              "       0.00000000e+00, 1.00000000e+00, 1.00000000e+00, 0.00000000e+00,\n",
              "       0.00000000e+00, 0.00000000e+00, 0.00000000e+00, 0.00000000e+00,\n",
              "       1.00000000e+00, 0.00000000e+00, 0.00000000e+00, 0.00000000e+00,\n",
              "       0.00000000e+00, 0.00000000e+00, 0.00000000e+00, 0.00000000e+00,\n",
              "       0.00000000e+00, 0.00000000e+00, 0.00000000e+00, 0.00000000e+00,\n",
              "       0.00000000e+00, 0.00000000e+00, 0.00000000e+00, 0.00000000e+00,\n",
              "       0.00000000e+00, 0.00000000e+00, 0.00000000e+00, 0.00000000e+00,\n",
              "       0.00000000e+00, 0.00000000e+00, 0.00000000e+00, 0.00000000e+00,\n",
              "       0.00000000e+00, 0.00000000e+00, 0.00000000e+00, 0.00000000e+00,\n",
              "       0.00000000e+00, 0.00000000e+00, 0.00000000e+00, 0.00000000e+00,\n",
              "       0.00000000e+00, 0.00000000e+00, 0.00000000e+00, 1.00000000e+00,\n",
              "       0.00000000e+00, 0.00000000e+00, 0.00000000e+00, 0.00000000e+00,\n",
              "       0.00000000e+00, 0.00000000e+00, 0.00000000e+00, 0.00000000e+00,\n",
              "       0.00000000e+00, 0.00000000e+00, 0.00000000e+00, 0.00000000e+00,\n",
              "       0.00000000e+00, 0.00000000e+00, 0.00000000e+00, 0.00000000e+00,\n",
              "       0.00000000e+00, 0.00000000e+00, 0.00000000e+00, 0.00000000e+00,\n",
              "       0.00000000e+00, 0.00000000e+00, 0.00000000e+00, 0.00000000e+00,\n",
              "       0.00000000e+00, 0.00000000e+00, 0.00000000e+00, 0.00000000e+00,\n",
              "       0.00000000e+00, 0.00000000e+00, 0.00000000e+00, 0.00000000e+00,\n",
              "       0.00000000e+00, 0.00000000e+00, 1.00000000e+00, 0.00000000e+00,\n",
              "       0.00000000e+00, 0.00000000e+00, 0.00000000e+00, 0.00000000e+00,\n",
              "       0.00000000e+00, 0.00000000e+00, 0.00000000e+00, 0.00000000e+00,\n",
              "       0.00000000e+00, 0.00000000e+00, 0.00000000e+00, 0.00000000e+00,\n",
              "       0.00000000e+00, 0.00000000e+00, 0.00000000e+00, 0.00000000e+00,\n",
              "       0.00000000e+00, 0.00000000e+00, 0.00000000e+00, 0.00000000e+00,\n",
              "       0.00000000e+00, 0.00000000e+00, 0.00000000e+00, 0.00000000e+00,\n",
              "       0.00000000e+00, 0.00000000e+00, 0.00000000e+00, 0.00000000e+00,\n",
              "       0.00000000e+00, 0.00000000e+00, 0.00000000e+00, 0.00000000e+00,\n",
              "       0.00000000e+00, 0.00000000e+00, 0.00000000e+00, 0.00000000e+00,\n",
              "       0.00000000e+00, 0.00000000e+00, 0.00000000e+00, 0.00000000e+00,\n",
              "       0.00000000e+00, 0.00000000e+00, 0.00000000e+00, 0.00000000e+00,\n",
              "       0.00000000e+00, 0.00000000e+00, 0.00000000e+00, 0.00000000e+00,\n",
              "       0.00000000e+00, 0.00000000e+00, 0.00000000e+00, 0.00000000e+00,\n",
              "       0.00000000e+00, 0.00000000e+00, 0.00000000e+00, 0.00000000e+00,\n",
              "       0.00000000e+00, 0.00000000e+00, 0.00000000e+00, 0.00000000e+00,\n",
              "       0.00000000e+00, 0.00000000e+00, 0.00000000e+00, 0.00000000e+00,\n",
              "       0.00000000e+00, 0.00000000e+00, 0.00000000e+00, 0.00000000e+00,\n",
              "       0.00000000e+00, 0.00000000e+00, 0.00000000e+00, 0.00000000e+00,\n",
              "       0.00000000e+00, 0.00000000e+00, 0.00000000e+00, 0.00000000e+00,\n",
              "       0.00000000e+00, 0.00000000e+00, 0.00000000e+00, 0.00000000e+00,\n",
              "       0.00000000e+00, 0.00000000e+00, 0.00000000e+00, 0.00000000e+00,\n",
              "       0.00000000e+00, 0.00000000e+00, 0.00000000e+00, 0.00000000e+00,\n",
              "       0.00000000e+00, 0.00000000e+00, 0.00000000e+00, 0.00000000e+00,\n",
              "       0.00000000e+00, 0.00000000e+00, 0.00000000e+00, 0.00000000e+00,\n",
              "       0.00000000e+00, 0.00000000e+00, 0.00000000e+00, 0.00000000e+00,\n",
              "       0.00000000e+00, 0.00000000e+00, 0.00000000e+00, 0.00000000e+00,\n",
              "       0.00000000e+00, 0.00000000e+00, 0.00000000e+00, 0.00000000e+00,\n",
              "       0.00000000e+00, 0.00000000e+00, 0.00000000e+00, 0.00000000e+00,\n",
              "       0.00000000e+00, 0.00000000e+00, 0.00000000e+00, 0.00000000e+00,\n",
              "       0.00000000e+00, 0.00000000e+00, 0.00000000e+00, 0.00000000e+00,\n",
              "       0.00000000e+00, 1.00000000e+00, 0.00000000e+00, 0.00000000e+00,\n",
              "       0.00000000e+00, 0.00000000e+00, 0.00000000e+00, 0.00000000e+00,\n",
              "       0.00000000e+00, 0.00000000e+00, 0.00000000e+00, 0.00000000e+00,\n",
              "       0.00000000e+00, 0.00000000e+00, 0.00000000e+00, 0.00000000e+00,\n",
              "       0.00000000e+00, 0.00000000e+00, 0.00000000e+00, 0.00000000e+00,\n",
              "       0.00000000e+00, 0.00000000e+00, 0.00000000e+00, 0.00000000e+00,\n",
              "       0.00000000e+00, 0.00000000e+00, 0.00000000e+00, 0.00000000e+00,\n",
              "       0.00000000e+00, 0.00000000e+00, 0.00000000e+00, 0.00000000e+00,\n",
              "       0.00000000e+00, 0.00000000e+00, 0.00000000e+00, 0.00000000e+00,\n",
              "       0.00000000e+00, 0.00000000e+00, 0.00000000e+00, 0.00000000e+00,\n",
              "       0.00000000e+00, 0.00000000e+00, 0.00000000e+00, 0.00000000e+00,\n",
              "       0.00000000e+00, 0.00000000e+00, 0.00000000e+00, 0.00000000e+00,\n",
              "       0.00000000e+00, 0.00000000e+00, 0.00000000e+00, 0.00000000e+00,\n",
              "       0.00000000e+00, 0.00000000e+00, 0.00000000e+00, 0.00000000e+00,\n",
              "       0.00000000e+00, 0.00000000e+00, 0.00000000e+00, 0.00000000e+00,\n",
              "       0.00000000e+00, 0.00000000e+00, 0.00000000e+00, 0.00000000e+00,\n",
              "       0.00000000e+00, 0.00000000e+00, 0.00000000e+00, 0.00000000e+00,\n",
              "       0.00000000e+00, 0.00000000e+00, 0.00000000e+00, 0.00000000e+00,\n",
              "       0.00000000e+00, 0.00000000e+00, 0.00000000e+00, 0.00000000e+00,\n",
              "       0.00000000e+00, 0.00000000e+00, 0.00000000e+00, 0.00000000e+00,\n",
              "       0.00000000e+00, 0.00000000e+00, 0.00000000e+00])"
            ]
          },
          "metadata": {},
          "execution_count": 44
        }
      ]
    },
    {
      "cell_type": "code",
      "source": [
        "hello_milvus.load()\n",
        "\n",
        "search_params = {\n",
        "    \"metric_type\": \"L2\",\n",
        "    \"params\": {\"nprobe\": 10},\n",
        "}\n",
        "result = hello_milvus.search([vectors_to_search], \"embeddings\", search_params, limit=5, output_fields=[\"data\"])"
      ],
      "metadata": {
        "id": "TjxHB2xtKino"
      },
      "execution_count": 50,
      "outputs": []
    },
    {
      "cell_type": "code",
      "source": [
        "result"
      ],
      "metadata": {
        "colab": {
          "base_uri": "https://localhost:8080/"
        },
        "id": "6FApovANLqnm",
        "outputId": "ee7c8b5b-7d68-4f6d-8ebd-e9180a77711f"
      },
      "execution_count": 51,
      "outputs": [
        {
          "output_type": "execute_result",
          "data": {
            "text/plain": [
              "<pymilvus.orm.search.SearchResult at 0x7db9107bd090>"
            ]
          },
          "metadata": {},
          "execution_count": 51
        }
      ]
    },
    {
      "cell_type": "code",
      "source": [
        "for i,hits in enumerate(result):\n",
        "    print(f'vector to search: {vectors_to_search[i]}')\n",
        "    for hit in hits:\n",
        "        print(f\"hit: {hit}, data field: {hit.entity.get('data')}\")"
      ],
      "metadata": {
        "colab": {
          "base_uri": "https://localhost:8080/"
        },
        "id": "WFztMt00LgSP",
        "outputId": "5041b227-124b-443b-b83b-61584d0ae33f"
      },
      "execution_count": 52,
      "outputs": [
        {
          "output_type": "stream",
          "name": "stdout",
          "text": [
            "vector to search: 9.868067383233532e-06\n",
            "hit: id: 10, distance: 0.0, entity: {'data': '20'}, data field: 20\n",
            "hit: id: 1133, distance: 0.002382750390097499, entity: {'data': '6178'}, data field: 6178\n",
            "hit: id: 1035, distance: 0.002725713886320591, entity: {'data': '6052'}, data field: 6052\n",
            "hit: id: 1225, distance: 0.002854237100109458, entity: {'data': '6377'}, data field: 6377\n",
            "hit: id: 1337, distance: 1.000012993812561, entity: {'data': '1060P'}, data field: 1060P\n"
          ]
        }
      ]
    },
    {
      "cell_type": "code",
      "source": [
        "default_server.stop()"
      ],
      "metadata": {
        "id": "UmX3MgSvGsma"
      },
      "execution_count": 53,
      "outputs": []
    },
    {
      "cell_type": "code",
      "source": [],
      "metadata": {
        "id": "l0_-ysNHHTLI"
      },
      "execution_count": null,
      "outputs": []
    }
  ]
}