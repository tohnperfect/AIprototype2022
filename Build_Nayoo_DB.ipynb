{
  "nbformat": 4,
  "nbformat_minor": 0,
  "metadata": {
    "colab": {
      "provenance": [],
      "authorship_tag": "ABX9TyPZukxIqP1wxKcxlPlHGqo+",
      "include_colab_link": true
    },
    "kernelspec": {
      "name": "python3",
      "display_name": "Python 3"
    },
    "language_info": {
      "name": "python"
    }
  },
  "cells": [
    {
      "cell_type": "markdown",
      "metadata": {
        "id": "view-in-github",
        "colab_type": "text"
      },
      "source": [
        "<a href=\"https://colab.research.google.com/github/tohnperfect/AIprototype2022/blob/main/Build_Nayoo_DB.ipynb\" target=\"_parent\"><img src=\"https://colab.research.google.com/assets/colab-badge.svg\" alt=\"Open In Colab\"/></a>"
      ]
    },
    {
      "cell_type": "code",
      "source": [
        "import pandas as pd\n",
        "import numpy as np"
      ],
      "metadata": {
        "id": "tZqDQp38Qkru"
      },
      "execution_count": 3,
      "outputs": []
    },
    {
      "cell_type": "code",
      "execution_count": 1,
      "metadata": {
        "id": "gmE2mOp_-iwm"
      },
      "outputs": [],
      "source": [
        "from google.colab import auth\n",
        "auth.authenticate_user()\n",
        "\n",
        "import gspread\n",
        "from google.auth import default\n",
        "creds, _ = default()\n",
        "\n",
        "gc = gspread.authorize(creds)"
      ]
    },
    {
      "cell_type": "code",
      "source": [
        "gsht = gc.open_by_key('1H2ucqHaBJmwP6iLOu-YbY2n6lAFHL1GZgiwW48CvUbU')"
      ],
      "metadata": {
        "id": "uHkHoxBFORdF"
      },
      "execution_count": 2,
      "outputs": []
    },
    {
      "cell_type": "code",
      "source": [
        "worksheet2 = gsht.worksheet(\"secondhand\")\n",
        "rows = worksheet2.get_all_values()\n",
        "nayooH2 = pd.DataFrame.from_records(rows)\n",
        "nayooH2.columns = nayooH2.iloc[0]\n",
        "nayooH2 = nayooH2.iloc[1:].reset_index().iloc[:,1:]"
      ],
      "metadata": {
        "id": "9h2dI6iEObB7"
      },
      "execution_count": 4,
      "outputs": []
    },
    {
      "cell_type": "code",
      "source": [
        "nayooH2.head()"
      ],
      "metadata": {
        "colab": {
          "base_uri": "https://localhost:8080/",
          "height": 565
        },
        "id": "s_8JXGLNQq0s",
        "outputId": "bc15b008-c8e9-4d6c-ec99-b13a494e3783"
      },
      "execution_count": 5,
      "outputs": [
        {
          "output_type": "execute_result",
          "data": {
            "text/plain": [
              "0 id listing_type                                            name_th  \\\n",
              "0  1         sale                            บ้านเดี่ยว ชนบท ขอนแก่น   \n",
              "1  4         sale                          บ้านเดี่ยว น้ำพอง ขอนแก่น   \n",
              "2  6         sale                       อาคารพาณิชย์ บ้านไผ่ ขอนแก่น   \n",
              "3  7         sale                    ที่ดินว่างเปล่า บ้านฝาง ขอนแก่น   \n",
              "4  9         sale  ที่ดินว่างเปล่า ทำเลเหมาะสำหรับทำเกษตรกรรม พล ...   \n",
              "\n",
              "0                                            name_en    project_name company  \\\n",
              "0                            บ้านเดี่ยว ชนบท ขอนแก่น     บ้านวังเวิน           \n",
              "1                          บ้านเดี่ยว น้ำพอง ขอนแก่น  บ้านหนองบัวบาน           \n",
              "2                       อาคารพาณิชย์ บ้านไผ่ ขอนแก่น                           \n",
              "3                    ที่ดินว่างเปล่า บ้านฝาง ขอนแก่น                           \n",
              "4  ที่ดินว่างเปล่า ทำเลเหมาะสำหรับทำเกษตรกรรม พล ...                           \n",
              "\n",
              "0 province district sub_district          property_type  ... has_fitness  \\\n",
              "0  ขอนแก่น     ชนบท  ศรีบุญเรือง             บ้านเดี่ยว  ...               \n",
              "1  ขอนแก่น   น้ำพอง      ทรายมูล             บ้านเดี่ยว  ...               \n",
              "2  ขอนแก่น  บ้านไผ่      ในเมือง  อาคารพาณิชย์/สำนักงาน  ...               \n",
              "3  ขอนแก่น  บ้านฝาง      หนองบัว                 ที่ดิน  ...               \n",
              "4  ขอนแก่น       พล     เก่างิ้ว                 ที่ดิน  ...               \n",
              "\n",
              "0 has_garden                 contact_name    mobile1  \\\n",
              "0             คุณเสริมศักดิ์ สุวรรณเปี่ยม  811728024   \n",
              "1             คุณเสริมศักดิ์ สุวรรณเปี่ยม  811728024   \n",
              "2             คุณเสริมศักดิ์ สุวรรณเปี่ยม  811728024   \n",
              "3             คุณเสริมศักดิ์ สุวรรณเปี่ยม  811728024   \n",
              "4             คุณเสริมศักดิ์ สุวรรณเปี่ยม  811728024   \n",
              "\n",
              "0                      email    status sold_out_at          created_at  \\\n",
              "0  ekawee.sivaraks@scb.co.th  เหลือขาย  2021-10-05  2020-06-29 6:25:32   \n",
              "1  ekawee.sivaraks@scb.co.th  เหลือขาย              2020-06-29 6:25:32   \n",
              "2  ekawee.sivaraks@scb.co.th  เหลือขาย              2020-06-29 6:25:32   \n",
              "3  ekawee.sivaraks@scb.co.th  เหลือขาย              2020-06-29 6:25:32   \n",
              "4  ekawee.sivaraks@scb.co.th  เหลือขาย              2020-06-29 6:25:32   \n",
              "\n",
              "0           updated_at deleted_at  \n",
              "0  2022-10-27 14:50:42             \n",
              "1  2022-11-07 15:40:47             \n",
              "2  2022-11-07 15:57:32             \n",
              "3  2022-11-07 15:47:34             \n",
              "4  2022-11-07 15:37:00             \n",
              "\n",
              "[5 rows x 58 columns]"
            ],
            "text/html": [
              "\n",
              "  <div id=\"df-d1877cb9-9dbc-4ea5-83a4-97359647fae9\">\n",
              "    <div class=\"colab-df-container\">\n",
              "      <div>\n",
              "<style scoped>\n",
              "    .dataframe tbody tr th:only-of-type {\n",
              "        vertical-align: middle;\n",
              "    }\n",
              "\n",
              "    .dataframe tbody tr th {\n",
              "        vertical-align: top;\n",
              "    }\n",
              "\n",
              "    .dataframe thead th {\n",
              "        text-align: right;\n",
              "    }\n",
              "</style>\n",
              "<table border=\"1\" class=\"dataframe\">\n",
              "  <thead>\n",
              "    <tr style=\"text-align: right;\">\n",
              "      <th></th>\n",
              "      <th>id</th>\n",
              "      <th>listing_type</th>\n",
              "      <th>name_th</th>\n",
              "      <th>name_en</th>\n",
              "      <th>project_name</th>\n",
              "      <th>company</th>\n",
              "      <th>province</th>\n",
              "      <th>district</th>\n",
              "      <th>sub_district</th>\n",
              "      <th>property_type</th>\n",
              "      <th>...</th>\n",
              "      <th>has_fitness</th>\n",
              "      <th>has_garden</th>\n",
              "      <th>contact_name</th>\n",
              "      <th>mobile1</th>\n",
              "      <th>email</th>\n",
              "      <th>status</th>\n",
              "      <th>sold_out_at</th>\n",
              "      <th>created_at</th>\n",
              "      <th>updated_at</th>\n",
              "      <th>deleted_at</th>\n",
              "    </tr>\n",
              "  </thead>\n",
              "  <tbody>\n",
              "    <tr>\n",
              "      <th>0</th>\n",
              "      <td>1</td>\n",
              "      <td>sale</td>\n",
              "      <td>บ้านเดี่ยว ชนบท ขอนแก่น</td>\n",
              "      <td>บ้านเดี่ยว ชนบท ขอนแก่น</td>\n",
              "      <td>บ้านวังเวิน</td>\n",
              "      <td></td>\n",
              "      <td>ขอนแก่น</td>\n",
              "      <td>ชนบท</td>\n",
              "      <td>ศรีบุญเรือง</td>\n",
              "      <td>บ้านเดี่ยว</td>\n",
              "      <td>...</td>\n",
              "      <td></td>\n",
              "      <td></td>\n",
              "      <td>คุณเสริมศักดิ์ สุวรรณเปี่ยม</td>\n",
              "      <td>811728024</td>\n",
              "      <td>ekawee.sivaraks@scb.co.th</td>\n",
              "      <td>เหลือขาย</td>\n",
              "      <td>2021-10-05</td>\n",
              "      <td>2020-06-29 6:25:32</td>\n",
              "      <td>2022-10-27 14:50:42</td>\n",
              "      <td></td>\n",
              "    </tr>\n",
              "    <tr>\n",
              "      <th>1</th>\n",
              "      <td>4</td>\n",
              "      <td>sale</td>\n",
              "      <td>บ้านเดี่ยว น้ำพอง ขอนแก่น</td>\n",
              "      <td>บ้านเดี่ยว น้ำพอง ขอนแก่น</td>\n",
              "      <td>บ้านหนองบัวบาน</td>\n",
              "      <td></td>\n",
              "      <td>ขอนแก่น</td>\n",
              "      <td>น้ำพอง</td>\n",
              "      <td>ทรายมูล</td>\n",
              "      <td>บ้านเดี่ยว</td>\n",
              "      <td>...</td>\n",
              "      <td></td>\n",
              "      <td></td>\n",
              "      <td>คุณเสริมศักดิ์ สุวรรณเปี่ยม</td>\n",
              "      <td>811728024</td>\n",
              "      <td>ekawee.sivaraks@scb.co.th</td>\n",
              "      <td>เหลือขาย</td>\n",
              "      <td></td>\n",
              "      <td>2020-06-29 6:25:32</td>\n",
              "      <td>2022-11-07 15:40:47</td>\n",
              "      <td></td>\n",
              "    </tr>\n",
              "    <tr>\n",
              "      <th>2</th>\n",
              "      <td>6</td>\n",
              "      <td>sale</td>\n",
              "      <td>อาคารพาณิชย์ บ้านไผ่ ขอนแก่น</td>\n",
              "      <td>อาคารพาณิชย์ บ้านไผ่ ขอนแก่น</td>\n",
              "      <td></td>\n",
              "      <td></td>\n",
              "      <td>ขอนแก่น</td>\n",
              "      <td>บ้านไผ่</td>\n",
              "      <td>ในเมือง</td>\n",
              "      <td>อาคารพาณิชย์/สำนักงาน</td>\n",
              "      <td>...</td>\n",
              "      <td></td>\n",
              "      <td></td>\n",
              "      <td>คุณเสริมศักดิ์ สุวรรณเปี่ยม</td>\n",
              "      <td>811728024</td>\n",
              "      <td>ekawee.sivaraks@scb.co.th</td>\n",
              "      <td>เหลือขาย</td>\n",
              "      <td></td>\n",
              "      <td>2020-06-29 6:25:32</td>\n",
              "      <td>2022-11-07 15:57:32</td>\n",
              "      <td></td>\n",
              "    </tr>\n",
              "    <tr>\n",
              "      <th>3</th>\n",
              "      <td>7</td>\n",
              "      <td>sale</td>\n",
              "      <td>ที่ดินว่างเปล่า บ้านฝาง ขอนแก่น</td>\n",
              "      <td>ที่ดินว่างเปล่า บ้านฝาง ขอนแก่น</td>\n",
              "      <td></td>\n",
              "      <td></td>\n",
              "      <td>ขอนแก่น</td>\n",
              "      <td>บ้านฝาง</td>\n",
              "      <td>หนองบัว</td>\n",
              "      <td>ที่ดิน</td>\n",
              "      <td>...</td>\n",
              "      <td></td>\n",
              "      <td></td>\n",
              "      <td>คุณเสริมศักดิ์ สุวรรณเปี่ยม</td>\n",
              "      <td>811728024</td>\n",
              "      <td>ekawee.sivaraks@scb.co.th</td>\n",
              "      <td>เหลือขาย</td>\n",
              "      <td></td>\n",
              "      <td>2020-06-29 6:25:32</td>\n",
              "      <td>2022-11-07 15:47:34</td>\n",
              "      <td></td>\n",
              "    </tr>\n",
              "    <tr>\n",
              "      <th>4</th>\n",
              "      <td>9</td>\n",
              "      <td>sale</td>\n",
              "      <td>ที่ดินว่างเปล่า ทำเลเหมาะสำหรับทำเกษตรกรรม พล ...</td>\n",
              "      <td>ที่ดินว่างเปล่า ทำเลเหมาะสำหรับทำเกษตรกรรม พล ...</td>\n",
              "      <td></td>\n",
              "      <td></td>\n",
              "      <td>ขอนแก่น</td>\n",
              "      <td>พล</td>\n",
              "      <td>เก่างิ้ว</td>\n",
              "      <td>ที่ดิน</td>\n",
              "      <td>...</td>\n",
              "      <td></td>\n",
              "      <td></td>\n",
              "      <td>คุณเสริมศักดิ์ สุวรรณเปี่ยม</td>\n",
              "      <td>811728024</td>\n",
              "      <td>ekawee.sivaraks@scb.co.th</td>\n",
              "      <td>เหลือขาย</td>\n",
              "      <td></td>\n",
              "      <td>2020-06-29 6:25:32</td>\n",
              "      <td>2022-11-07 15:37:00</td>\n",
              "      <td></td>\n",
              "    </tr>\n",
              "  </tbody>\n",
              "</table>\n",
              "<p>5 rows × 58 columns</p>\n",
              "</div>\n",
              "      <button class=\"colab-df-convert\" onclick=\"convertToInteractive('df-d1877cb9-9dbc-4ea5-83a4-97359647fae9')\"\n",
              "              title=\"Convert this dataframe to an interactive table.\"\n",
              "              style=\"display:none;\">\n",
              "        \n",
              "  <svg xmlns=\"http://www.w3.org/2000/svg\" height=\"24px\"viewBox=\"0 0 24 24\"\n",
              "       width=\"24px\">\n",
              "    <path d=\"M0 0h24v24H0V0z\" fill=\"none\"/>\n",
              "    <path d=\"M18.56 5.44l.94 2.06.94-2.06 2.06-.94-2.06-.94-.94-2.06-.94 2.06-2.06.94zm-11 1L8.5 8.5l.94-2.06 2.06-.94-2.06-.94L8.5 2.5l-.94 2.06-2.06.94zm10 10l.94 2.06.94-2.06 2.06-.94-2.06-.94-.94-2.06-.94 2.06-2.06.94z\"/><path d=\"M17.41 7.96l-1.37-1.37c-.4-.4-.92-.59-1.43-.59-.52 0-1.04.2-1.43.59L10.3 9.45l-7.72 7.72c-.78.78-.78 2.05 0 2.83L4 21.41c.39.39.9.59 1.41.59.51 0 1.02-.2 1.41-.59l7.78-7.78 2.81-2.81c.8-.78.8-2.07 0-2.86zM5.41 20L4 18.59l7.72-7.72 1.47 1.35L5.41 20z\"/>\n",
              "  </svg>\n",
              "      </button>\n",
              "      \n",
              "  <style>\n",
              "    .colab-df-container {\n",
              "      display:flex;\n",
              "      flex-wrap:wrap;\n",
              "      gap: 12px;\n",
              "    }\n",
              "\n",
              "    .colab-df-convert {\n",
              "      background-color: #E8F0FE;\n",
              "      border: none;\n",
              "      border-radius: 50%;\n",
              "      cursor: pointer;\n",
              "      display: none;\n",
              "      fill: #1967D2;\n",
              "      height: 32px;\n",
              "      padding: 0 0 0 0;\n",
              "      width: 32px;\n",
              "    }\n",
              "\n",
              "    .colab-df-convert:hover {\n",
              "      background-color: #E2EBFA;\n",
              "      box-shadow: 0px 1px 2px rgba(60, 64, 67, 0.3), 0px 1px 3px 1px rgba(60, 64, 67, 0.15);\n",
              "      fill: #174EA6;\n",
              "    }\n",
              "\n",
              "    [theme=dark] .colab-df-convert {\n",
              "      background-color: #3B4455;\n",
              "      fill: #D2E3FC;\n",
              "    }\n",
              "\n",
              "    [theme=dark] .colab-df-convert:hover {\n",
              "      background-color: #434B5C;\n",
              "      box-shadow: 0px 1px 3px 1px rgba(0, 0, 0, 0.15);\n",
              "      filter: drop-shadow(0px 1px 2px rgba(0, 0, 0, 0.3));\n",
              "      fill: #FFFFFF;\n",
              "    }\n",
              "  </style>\n",
              "\n",
              "      <script>\n",
              "        const buttonEl =\n",
              "          document.querySelector('#df-d1877cb9-9dbc-4ea5-83a4-97359647fae9 button.colab-df-convert');\n",
              "        buttonEl.style.display =\n",
              "          google.colab.kernel.accessAllowed ? 'block' : 'none';\n",
              "\n",
              "        async function convertToInteractive(key) {\n",
              "          const element = document.querySelector('#df-d1877cb9-9dbc-4ea5-83a4-97359647fae9');\n",
              "          const dataTable =\n",
              "            await google.colab.kernel.invokeFunction('convertToInteractive',\n",
              "                                                     [key], {});\n",
              "          if (!dataTable) return;\n",
              "\n",
              "          const docLinkHtml = 'Like what you see? Visit the ' +\n",
              "            '<a target=\"_blank\" href=https://colab.research.google.com/notebooks/data_table.ipynb>data table notebook</a>'\n",
              "            + ' to learn more about interactive tables.';\n",
              "          element.innerHTML = '';\n",
              "          dataTable['output_type'] = 'display_data';\n",
              "          await google.colab.output.renderOutput(dataTable, element);\n",
              "          const docLink = document.createElement('div');\n",
              "          docLink.innerHTML = docLinkHtml;\n",
              "          element.appendChild(docLink);\n",
              "        }\n",
              "      </script>\n",
              "    </div>\n",
              "  </div>\n",
              "  "
            ]
          },
          "metadata": {},
          "execution_count": 5
        }
      ]
    },
    {
      "cell_type": "code",
      "source": [
        "from google.colab import drive\n",
        "drive.mount('/content/drive')"
      ],
      "metadata": {
        "colab": {
          "base_uri": "https://localhost:8080/"
        },
        "id": "FYNJrNBQQu7n",
        "outputId": "b3ab6b5e-e44a-44ce-8f3f-605425a5ef4e"
      },
      "execution_count": 6,
      "outputs": [
        {
          "output_type": "stream",
          "name": "stdout",
          "text": [
            "Mounted at /content/drive\n"
          ]
        }
      ]
    },
    {
      "cell_type": "code",
      "source": [
        "project_dict_df = pd.read_excel('/content/drive/MyDrive/NAYOO_AI/project-2.xlsx')\n",
        "project_dict= dict(zip(project_dict_df['ชื่อใน Database'], project_dict_df['ชื่อจริง']))\n",
        "nayooH2 = nayooH2.replace({'project_name':project_dict})"
      ],
      "metadata": {
        "id": "UkQCM15hXwtq"
      },
      "execution_count": 7,
      "outputs": []
    },
    {
      "cell_type": "code",
      "source": [
        "street_dict_df = pd.read_excel('/content/drive/MyDrive/NAYOO_AI/street-2.xlsx')\n",
        "street_dict= dict(zip(street_dict_df['ชื่อใน Database'], street_dict_df['ชื่อจริง']))\n",
        "nayooH2 = nayooH2.replace({'street':street_dict})"
      ],
      "metadata": {
        "id": "MeRxLsxWX5DH"
      },
      "execution_count": 8,
      "outputs": []
    },
    {
      "cell_type": "code",
      "source": [
        "dash_list = [\"id\",\"listing_type\",\"province\",\"district\",\"sub_district\",\"zone\",\"property_type\",\"name_th\",\"web_path\",\"latitude\",\"longitude\",\"number_of_va\",\"sell_price\",\"rent_price\",\"number_of_bedroom\",\n",
        "            \"number_of_bathroom\",\"number_of_parking\",\"contact_name\",\"mobile1\",\"email\",\"status\",\"created_at\",\"updated_at\"]"
      ],
      "metadata": {
        "id": "S8XCqIfHX6b_"
      },
      "execution_count": 9,
      "outputs": []
    },
    {
      "cell_type": "code",
      "source": [
        "ml_list = [ 'number_of_rai','number_of_ngan','number_of_va','latitude','longitude','usable_area','renovate','number_of_bedroom','number_of_bathroom','number_of_parking','number_of_story',\n",
        "            'furniture','direction','floor_number','project_name','district']"
      ],
      "metadata": {
        "id": "Nvf1rCGpbzcP"
      },
      "execution_count": 10,
      "outputs": []
    },
    {
      "cell_type": "code",
      "source": [],
      "metadata": {
        "id": "yW2xVMndlZKc"
      },
      "execution_count": null,
      "outputs": []
    }
  ]
}